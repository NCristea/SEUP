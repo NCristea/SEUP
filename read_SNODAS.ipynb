{
 "cells": [
  {
   "cell_type": "code",
   "execution_count": 1,
   "metadata": {},
   "outputs": [],
   "source": [
    "#get SNODAS get_snodas(dt = , outdir=None, code=1036) \n",
    "#SNODAS Codes: 1036= snow depth"
   ]
  },
  {
   "cell_type": "code",
   "execution_count": null,
   "metadata": {},
   "outputs": [],
   "source": [
    "import rasterio\n",
    "\n",
    "import matplotlib.pyplot as plt\n",
    "\n",
    "import cartopy.crs as ccrs\n",
    "from cartopy.io.shapereader import Reader\n",
    "from cartopy.feature import ShapelyFeature  \n",
    "from matplotlib import pyplot\n",
    "#import rasterstats\n",
    "import regionmask\n",
    "import xarray as xr\n",
    "#import xesmf as xe\n",
    "import numpy as np\n",
    "import pandas as pd\n",
    "from datetime import datetime"
   ]
  },
  {
   "cell_type": "code",
   "execution_count": 7,
   "metadata": {},
   "outputs": [],
   "source": [
    "ds_test = xr.open_dataset('/Users/carina/Desktop/data/seup/SNODAS/SNODAS_20170914.nc') \n",
    "\n",
    "#mask_OSSE = xr.open_dataset('/Users/carina/Desktop/code/SEUP/mask_OSSE.nc')\n",
    "\n",
    "#mask_OSSE_arr = mask_OSSE.to_array()\n",
    "\n",
    "#masked_ds = ds_test.where(mask_OSSE_arr == 0)"
   ]
  },
  {
   "cell_type": "code",
   "execution_count": 6,
   "metadata": {},
   "outputs": [
    {
     "data": {
      "text/plain": [
       "1 'osse' Regions\n",
       "osse"
      ]
     },
     "execution_count": 6,
     "metadata": {},
     "output_type": "execute_result"
    }
   ],
   "source": [
    "US2 = np.array([[-108.565, 40.715], [-105.025, 40.715], [-105.025, 37.525], [-108.565, 37.525]])\n",
    "names = [\"osse_region\"]\n",
    "abbrevs = [\"osse\"]\n",
    "\n",
    "osse_region = regionmask.Regions([US2], names=names, abbrevs=abbrevs, name=\"osse\")\n",
    "osse_region"
   ]
  },
  {
   "cell_type": "code",
   "execution_count": 10,
   "metadata": {},
   "outputs": [],
   "source": [
    "mask_OSSE_test = osse_region.mask(ds_test)"
   ]
  },
  {
   "cell_type": "code",
   "execution_count": 30,
   "metadata": {},
   "outputs": [],
   "source": [
    "#mask_OSSE_test.plot()"
   ]
  },
  {
   "cell_type": "code",
   "execution_count": 31,
   "metadata": {},
   "outputs": [],
   "source": [
    "#type(mask_OSSE_test)"
   ]
  },
  {
   "cell_type": "code",
   "execution_count": 32,
   "metadata": {},
   "outputs": [],
   "source": [
    "#masked_ds = ds_test.where(mask_OSSE_test == 0)"
   ]
  },
  {
   "cell_type": "code",
   "execution_count": 33,
   "metadata": {},
   "outputs": [],
   "source": [
    "#masked_ds"
   ]
  },
  {
   "cell_type": "code",
   "execution_count": 34,
   "metadata": {},
   "outputs": [],
   "source": [
    "sel_mask = mask_OSSE_test.where(mask_OSSE_test == 0).values #np array\n",
    "lat = mask_OSSE_test.lat.values\n",
    "lon = mask_OSSE_test.lon.values\n",
    "id_lon = lon[np.where(~np.all(np.isnan(sel_mask), axis=0))]\n",
    "id_lat = lat[np.where(~np.all(np.isnan(sel_mask), axis=1))]\n",
    "out_sel = ds_test.sel(lat = slice(id_lat[0], id_lat[-1]), lon = slice(id_lon[0], \n",
    "                                                                    id_lon[-1])).compute().where(mask_OSSE_test == 0)"
   ]
  },
  {
   "cell_type": "code",
   "execution_count": 29,
   "metadata": {},
   "outputs": [
    {
     "data": {
      "text/plain": [
       "<matplotlib.collections.QuadMesh at 0xd343a5d68>"
      ]
     },
     "execution_count": 29,
     "metadata": {},
     "output_type": "execute_result"
    },
    {
     "data": {
      "image/png": "[encoded data removed]",
      "text/plain": [
       "<Figure size 432x288 with 2 Axes>"
      ]
     },
     "metadata": {
      "needs_background": "light"
     },
     "output_type": "display_data"
    }
   ],
   "source": [
    "out_sel.Band1.plot()"
   ]
  },
  {
   "cell_type": "code",
   "execution_count": null,
   "metadata": {},
   "outputs": [],
   "source": []
  }
 ],
 "metadata": {
  "kernelspec": {
   "display_name": "Python 3",
   "language": "python",
   "name": "python3"
  },
  "language_info": {
   "codemirror_mode": {
    "name": "ipython",
    "version": 3
   },
   "file_extension": ".py",
   "mimetype": "text/x-python",
   "name": "python",
   "nbconvert_exporter": "python",
   "pygments_lexer": "ipython3",
   "version": "3.6.7"
  }
 },
 "nbformat": 4,
 "nbformat_minor": 2
}
