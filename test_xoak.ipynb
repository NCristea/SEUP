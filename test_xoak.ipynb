{
 "cells": [
  {
   "cell_type": "code",
   "execution_count": 31,
   "metadata": {},
   "outputs": [],
   "source": [
    "#test\n",
    "import numpy as np\n",
    "import xarray as xr\n",
    "import xoak\n",
    "import geopandas as gpd\n",
    "#xr.set_options(display_style='text');"
   ]
  },
  {
   "cell_type": "code",
   "execution_count": 43,
   "metadata": {},
   "outputs": [],
   "source": [
    "shape = (100, 100)\n",
    "lat = np.random.uniform(-90, 90, size=shape)\n",
    "lon = np.random.uniform(-180, 180, size=shape)\n",
    "\n",
    "field = lat + lon"
   ]
  },
  {
   "cell_type": "code",
   "execution_count": 44,
   "metadata": {},
   "outputs": [
    {
     "data": {
      "text/plain": [
       "numpy.ndarray"
      ]
     },
     "execution_count": 44,
     "metadata": {},
     "output_type": "execute_result"
    }
   ],
   "source": [
    "#field.shape\n",
    "type(field)"
   ]
  },
  {
   "cell_type": "code",
   "execution_count": 45,
   "metadata": {},
   "outputs": [
    {
     "data": {
      "text/plain": [
       "<xarray.Dataset>\n",
       "Dimensions:  (x: 100, y: 100)\n",
       "Coordinates:\n",
       "    lat      (x, y) float64 19.31 27.73 -10.93 1.032 -18.08 -76.77 86.78 ...\n",
       "    lon      (x, y) float64 172.2 -91.2 56.69 -127.9 -45.15 -44.48 -5.636 ...\n",
       "Dimensions without coordinates: x, y\n",
       "Data variables:\n",
       "    field    (x, y) float64 191.5 -63.46 45.76 -126.8 -63.22 -121.2 81.14 ..."
      ]
     },
     "execution_count": 45,
     "metadata": {},
     "output_type": "execute_result"
    }
   ],
   "source": [
    "ds_mesh = xr.Dataset(\n",
    "    coords={'lat': (('x', 'y'), lat), 'lon': (('x', 'y'), lon)},\n",
    "    data_vars={'field': (('x', 'y'), field)},\n",
    ")\n",
    "\n",
    "ds_mesh"
   ]
  },
  {
   "cell_type": "code",
   "execution_count": 20,
   "metadata": {},
   "outputs": [],
   "source": [
    "ds_mesh.xoak.set_index(['lat', 'lon'], 'sklearn_geo_balltree')"
   ]
  },
  {
   "cell_type": "code",
   "execution_count": 21,
   "metadata": {},
   "outputs": [
    {
     "data": {
      "text/plain": [
       "<xarray.Dataset>\n",
       "Dimensions:    (trajectory: 30)\n",
       "Dimensions without coordinates: trajectory\n",
       "Data variables:\n",
       "    latitude   (trajectory) float64 -10.0 -8.276 -6.552 -4.828 -3.103 -1.379 ...\n",
       "    longitude  (trajectory) float64 -150.0 -139.7 -129.3 -119.0 -108.6 ..."
      ]
     },
     "execution_count": 21,
     "metadata": {},
     "output_type": "execute_result"
    }
   ],
   "source": [
    "ds_trajectory = xr.Dataset({\n",
    "    'latitude': ('trajectory', np.linspace(-10, 40, 30)),\n",
    "    'longitude': ('trajectory', np.linspace(-150, 150, 30))\n",
    "})\n",
    "\n",
    "ds_trajectory"
   ]
  },
  {
   "cell_type": "code",
   "execution_count": 22,
   "metadata": {},
   "outputs": [
    {
     "data": {
      "text/plain": [
       "<xarray.Dataset>\n",
       "Dimensions:  (trajectory: 30)\n",
       "Coordinates:\n",
       "    lat      (trajectory) float64 -11.01 -7.519 -7.127 -5.627 -4.798 -2.334 ...\n",
       "    lon      (trajectory) float64 -150.9 -138.3 -130.0 -120.0 -107.6 -97.93 ...\n",
       "Dimensions without coordinates: trajectory\n",
       "Data variables:\n",
       "    field    (trajectory) float64 -162.0 -145.9 -137.1 -125.7 -112.4 -100.3 ..."
      ]
     },
     "execution_count": 22,
     "metadata": {},
     "output_type": "execute_result"
    }
   ],
   "source": [
    "ds_selection = ds_mesh.xoak.sel(\n",
    "    lat=ds_trajectory.latitude,\n",
    "    lon=ds_trajectory.longitude\n",
    ")\n",
    "\n",
    "ds_selection"
   ]
  },
  {
   "cell_type": "code",
   "execution_count": 23,
   "metadata": {},
   "outputs": [
    {
     "ename": "AttributeError",
     "evalue": "'Dataset' object has no attribute 'plot'",
     "output_type": "error",
     "traceback": [
      "\u001b[0;31m---------------------------------------------------------------------------\u001b[0m",
      "\u001b[0;31mAttributeError\u001b[0m                            Traceback (most recent call last)",
      "\u001b[0;32m<ipython-input-23-ad75db6c2529>\u001b[0m in \u001b[0;36m<module>\u001b[0;34m\u001b[0m\n\u001b[0;32m----> 1\u001b[0;31m \u001b[0mds_trajectory\u001b[0m\u001b[0;34m.\u001b[0m\u001b[0mplot\u001b[0m\u001b[0;34m.\u001b[0m\u001b[0mscatter\u001b[0m\u001b[0;34m(\u001b[0m\u001b[0mx\u001b[0m\u001b[0;34m=\u001b[0m\u001b[0;34m'longitude'\u001b[0m\u001b[0;34m,\u001b[0m \u001b[0my\u001b[0m\u001b[0;34m=\u001b[0m\u001b[0;34m'latitude'\u001b[0m\u001b[0;34m,\u001b[0m \u001b[0mc\u001b[0m\u001b[0;34m=\u001b[0m\u001b[0;34m'k'\u001b[0m\u001b[0;34m,\u001b[0m \u001b[0malpha\u001b[0m\u001b[0;34m=\u001b[0m\u001b[0;36m0.7\u001b[0m\u001b[0;34m)\u001b[0m\u001b[0;34m;\u001b[0m\u001b[0;34m\u001b[0m\u001b[0;34m\u001b[0m\u001b[0m\n\u001b[0m\u001b[1;32m      2\u001b[0m \u001b[0mds_selection\u001b[0m\u001b[0;34m.\u001b[0m\u001b[0mplot\u001b[0m\u001b[0;34m.\u001b[0m\u001b[0mscatter\u001b[0m\u001b[0;34m(\u001b[0m\u001b[0mx\u001b[0m\u001b[0;34m=\u001b[0m\u001b[0;34m'lon'\u001b[0m\u001b[0;34m,\u001b[0m \u001b[0my\u001b[0m\u001b[0;34m=\u001b[0m\u001b[0;34m'lat'\u001b[0m\u001b[0;34m,\u001b[0m \u001b[0mhue\u001b[0m\u001b[0;34m=\u001b[0m\u001b[0;34m'field'\u001b[0m\u001b[0;34m,\u001b[0m \u001b[0malpha\u001b[0m\u001b[0;34m=\u001b[0m\u001b[0;36m0.9\u001b[0m\u001b[0;34m)\u001b[0m\u001b[0;34m;\u001b[0m\u001b[0;34m\u001b[0m\u001b[0;34m\u001b[0m\u001b[0m\n",
      "\u001b[0;32m~/anaconda3/lib/python3.6/site-packages/xarray/core/common.py\u001b[0m in \u001b[0;36m__getattr__\u001b[0;34m(self, name)\u001b[0m\n\u001b[1;32m    174\u001b[0m                     \u001b[0;32mreturn\u001b[0m \u001b[0msource\u001b[0m\u001b[0;34m[\u001b[0m\u001b[0mname\u001b[0m\u001b[0;34m]\u001b[0m\u001b[0;34m\u001b[0m\u001b[0;34m\u001b[0m\u001b[0m\n\u001b[1;32m    175\u001b[0m         raise AttributeError(\"%r object has no attribute %r\" %\n\u001b[0;32m--> 176\u001b[0;31m                              (type(self).__name__, name))\n\u001b[0m\u001b[1;32m    177\u001b[0m \u001b[0;34m\u001b[0m\u001b[0m\n\u001b[1;32m    178\u001b[0m     \u001b[0;32mdef\u001b[0m \u001b[0m__setattr__\u001b[0m\u001b[0;34m(\u001b[0m\u001b[0mself\u001b[0m\u001b[0;34m,\u001b[0m \u001b[0mname\u001b[0m\u001b[0;34m,\u001b[0m \u001b[0mvalue\u001b[0m\u001b[0;34m)\u001b[0m\u001b[0;34m:\u001b[0m\u001b[0;34m\u001b[0m\u001b[0;34m\u001b[0m\u001b[0m\n",
      "\u001b[0;31mAttributeError\u001b[0m: 'Dataset' object has no attribute 'plot'"
     ]
    }
   ],
   "source": [
    "ds_trajectory.plot.scatter(x='longitude', y='latitude', c='k', alpha=0.7);\n",
    "ds_selection.plot.scatter(x='lon', y='lat', hue='field', alpha=0.9);"
   ]
  },
  {
   "cell_type": "code",
   "execution_count": 24,
   "metadata": {},
   "outputs": [
    {
     "data": {
      "text/plain": [
       "xarray.core.dataset.Dataset"
      ]
     },
     "execution_count": 24,
     "metadata": {},
     "output_type": "execute_result"
    }
   ],
   "source": [
    "type(ds_selection)"
   ]
  },
  {
   "cell_type": "code",
   "execution_count": 25,
   "metadata": {},
   "outputs": [
    {
     "data": {
      "text/plain": [
       "<xarray.Dataset>\n",
       "Dimensions:  (trajectory: 30)\n",
       "Coordinates:\n",
       "    lat      (trajectory) float64 -11.01 -7.519 -7.127 -5.627 -4.798 -2.334 ...\n",
       "    lon      (trajectory) float64 -150.9 -138.3 -130.0 -120.0 -107.6 -97.93 ...\n",
       "Dimensions without coordinates: trajectory\n",
       "Data variables:\n",
       "    field    (trajectory) float64 -162.0 -145.9 -137.1 -125.7 -112.4 -100.3 ..."
      ]
     },
     "execution_count": 25,
     "metadata": {},
     "output_type": "execute_result"
    }
   ],
   "source": [
    "ds_selection"
   ]
  },
  {
   "cell_type": "code",
   "execution_count": 36,
   "metadata": {},
   "outputs": [],
   "source": [
    "#extract UA data at points\n",
    "path_ua = '/Users/carina/Desktop/data/seup/UA_SWE/'\n",
    "files_ua = path_ua + '4km_SWE_Depth*.nc'\n",
    "ds_ua = xr.open_mfdataset(files_ua)"
   ]
  },
  {
   "cell_type": "code",
   "execution_count": 32,
   "metadata": {},
   "outputs": [
    {
     "data": {
      "text/html": [
       "<div>\n",
       "<style scoped>\n",
       "    .dataframe tbody tr th:only-of-type {\n",
       "        vertical-align: middle;\n",
       "    }\n",
       "\n",
       "    .dataframe tbody tr th {\n",
       "        vertical-align: top;\n",
       "    }\n",
       "\n",
       "    .dataframe thead th {\n",
       "        text-align: right;\n",
       "    }\n",
       "</style>\n",
       "<table border=\"1\" class=\"dataframe\">\n",
       "  <thead>\n",
       "    <tr style=\"text-align: right;\">\n",
       "      <th></th>\n",
       "      <th>cell_id</th>\n",
       "      <th>region</th>\n",
       "      <th>geometry</th>\n",
       "    </tr>\n",
       "  </thead>\n",
       "  <tbody>\n",
       "    <tr>\n",
       "      <th>0</th>\n",
       "      <td>0003f387-71c4-48f6-b2b0-d853bd4f0aba</td>\n",
       "      <td>sierras</td>\n",
       "      <td>POLYGON ((-118.71895 37.07419, -118.71895 37.0...</td>\n",
       "    </tr>\n",
       "    <tr>\n",
       "      <th>1</th>\n",
       "      <td>000617d8-8c14-43e2-b708-7e3a69fe3cc3</td>\n",
       "      <td>central rockies</td>\n",
       "      <td>POLYGON ((-107.07679 37.78042, -107.07679 37.7...</td>\n",
       "    </tr>\n",
       "    <tr>\n",
       "      <th>2</th>\n",
       "      <td>000863e7-21e6-477d-b799-f5675c348627</td>\n",
       "      <td>other</td>\n",
       "      <td>POLYGON ((-119.40167 37.02400, -119.40167 37.0...</td>\n",
       "    </tr>\n",
       "    <tr>\n",
       "      <th>3</th>\n",
       "      <td>000ba8d9-d6d5-48da-84a2-1fa54951fae1</td>\n",
       "      <td>sierras</td>\n",
       "      <td>POLYGON ((-119.32082 37.43171, -119.32082 37.4...</td>\n",
       "    </tr>\n",
       "    <tr>\n",
       "      <th>4</th>\n",
       "      <td>00146204-d4e9-4cd8-8f86-d1ef133c5b6d</td>\n",
       "      <td>sierras</td>\n",
       "      <td>POLYGON ((-118.52132 36.65735, -118.52132 36.6...</td>\n",
       "    </tr>\n",
       "    <tr>\n",
       "      <th>...</th>\n",
       "      <td>...</td>\n",
       "      <td>...</td>\n",
       "      <td>...</td>\n",
       "    </tr>\n",
       "    <tr>\n",
       "      <th>18125</th>\n",
       "      <td>ffdfb5a4-91a0-41a9-a4d5-501b04ef6326</td>\n",
       "      <td>sierras</td>\n",
       "      <td>POLYGON ((-118.62014 37.11718, -118.62014 37.1...</td>\n",
       "    </tr>\n",
       "    <tr>\n",
       "      <th>18126</th>\n",
       "      <td>ffe43514-2c92-43b6-bd84-d183806aca65</td>\n",
       "      <td>other</td>\n",
       "      <td>POLYGON ((-123.49799 47.90132, -123.49799 47.9...</td>\n",
       "    </tr>\n",
       "    <tr>\n",
       "      <th>18127</th>\n",
       "      <td>ffeabc13-7c6f-4b63-b043-19c8f15e0345</td>\n",
       "      <td>sierras</td>\n",
       "      <td>POLYGON ((-119.64422 37.87976, -119.64422 37.8...</td>\n",
       "    </tr>\n",
       "    <tr>\n",
       "      <th>18128</th>\n",
       "      <td>fff95195-ccc9-40b7-b302-a0d8570c86bc</td>\n",
       "      <td>other</td>\n",
       "      <td>POLYGON ((-123.37223 47.73242, -123.37223 47.7...</td>\n",
       "    </tr>\n",
       "    <tr>\n",
       "      <th>18129</th>\n",
       "      <td>fffb4d40-5947-4922-9f05-5d8b5a243d84</td>\n",
       "      <td>other</td>\n",
       "      <td>POLYGON ((-123.79443 47.52052, -123.79443 47.5...</td>\n",
       "    </tr>\n",
       "  </tbody>\n",
       "</table>\n",
       "<p>18130 rows × 3 columns</p>\n",
       "</div>"
      ],
      "text/plain": [
       "                                    cell_id           region  \\\n",
       "0      0003f387-71c4-48f6-b2b0-d853bd4f0aba          sierras   \n",
       "1      000617d8-8c14-43e2-b708-7e3a69fe3cc3  central rockies   \n",
       "2      000863e7-21e6-477d-b799-f5675c348627            other   \n",
       "3      000ba8d9-d6d5-48da-84a2-1fa54951fae1          sierras   \n",
       "4      00146204-d4e9-4cd8-8f86-d1ef133c5b6d          sierras   \n",
       "...                                     ...              ...   \n",
       "18125  ffdfb5a4-91a0-41a9-a4d5-501b04ef6326          sierras   \n",
       "18126  ffe43514-2c92-43b6-bd84-d183806aca65            other   \n",
       "18127  ffeabc13-7c6f-4b63-b043-19c8f15e0345          sierras   \n",
       "18128  fff95195-ccc9-40b7-b302-a0d8570c86bc            other   \n",
       "18129  fffb4d40-5947-4922-9f05-5d8b5a243d84            other   \n",
       "\n",
       "                                                geometry  \n",
       "0      POLYGON ((-118.71895 37.07419, -118.71895 37.0...  \n",
       "1      POLYGON ((-107.07679 37.78042, -107.07679 37.7...  \n",
       "2      POLYGON ((-119.40167 37.02400, -119.40167 37.0...  \n",
       "3      POLYGON ((-119.32082 37.43171, -119.32082 37.4...  \n",
       "4      POLYGON ((-118.52132 36.65735, -118.52132 36.6...  \n",
       "...                                                  ...  \n",
       "18125  POLYGON ((-118.62014 37.11718, -118.62014 37.1...  \n",
       "18126  POLYGON ((-123.49799 47.90132, -123.49799 47.9...  \n",
       "18127  POLYGON ((-119.64422 37.87976, -119.64422 37.8...  \n",
       "18128  POLYGON ((-123.37223 47.73242, -123.37223 47.7...  \n",
       "18129  POLYGON ((-123.79443 47.52052, -123.79443 47.5...  \n",
       "\n",
       "[18130 rows x 3 columns]"
      ]
     },
     "execution_count": 32,
     "metadata": {},
     "output_type": "execute_result"
    }
   ],
   "source": [
    "df_grid = gpd.read_file('/Users/carina/Desktop/code/SEUP/grid_cells.geojson')\n",
    "df_grid['geometry']\n",
    "df_grid.plot()\n",
    "df_grid"
   ]
  },
  {
   "cell_type": "code",
   "execution_count": 33,
   "metadata": {},
   "outputs": [],
   "source": [
    "centroids = np.vstack(df_grid.geometry.centroid).T\n",
    "lon_grid = centroids[0:1].ravel().tolist()\n",
    "lat_grid = centroids[1:2].ravel().tolist()\n"
   ]
  },
  {
   "cell_type": "code",
   "execution_count": 34,
   "metadata": {},
   "outputs": [],
   "source": [
    "grid_labels = df_grid['cell_id'].to_numpy()\n",
    "grid_labels = grid_labels.ravel().tolist()"
   ]
  },
  {
   "cell_type": "code",
   "execution_count": 39,
   "metadata": {},
   "outputs": [],
   "source": [
    "dataUA_grid  = ds_ua.sel(lon = lon_grid, lat = lat_grid, method='nearest')\n",
    "dataUA_grid = dataUA_grid.assign_coords(label = grid_labels) "
   ]
  },
  {
   "cell_type": "code",
   "execution_count": 40,
   "metadata": {},
   "outputs": [
    {
     "data": {
      "text/plain": [
       "<xarray.Dataset>\n",
       "Dimensions:   (label: 18130, lat: 18130, lon: 18130, time: 1826, time_str_len: 11)\n",
       "Coordinates:\n",
       "  * lat       (lat) float32 37.083332 37.791668 37.041668 37.416668 ...\n",
       "  * lon       (lon) float32 -118.708336 -107.083336 -119.416664 -119.333336 ...\n",
       "  * time      (time) datetime64[ns] 2012-10-01 2012-10-02 2012-10-03 ...\n",
       "  * label     (label) <U36 '0003f387-71c4-48f6-b2b0-d853bd4f0aba' ...\n",
       "Dimensions without coordinates: time_str_len\n",
       "Data variables:\n",
       "    crs       (time) |S1 b'' b'' b'' b'' b'' b'' b'' b'' b'' b'' b'' b'' b'' ...\n",
       "    time_str  (time_str_len, time) |S1 dask.array<shape=(11, 1826), chunksize=(11, 365)>\n",
       "    SWE       (time, lat, lon) float32 dask.array<shape=(1826, 18130, 18130), chunksize=(365, 18130, 18130)>\n",
       "    DEPTH     (time, lat, lon) float32 dask.array<shape=(1826, 18130, 18130), chunksize=(365, 18130, 18130)>"
      ]
     },
     "execution_count": 40,
     "metadata": {},
     "output_type": "execute_result"
    }
   ],
   "source": [
    "dataUA_grid"
   ]
  },
  {
   "cell_type": "code",
   "execution_count": 42,
   "metadata": {},
   "outputs": [],
   "source": [
    "#SWE_UA = dataUA_grid.SWE.sel(time = '2016-02-02')\n",
    "#im = SWE_UA.plot()"
   ]
  },
  {
   "cell_type": "code",
   "execution_count": 46,
   "metadata": {},
   "outputs": [
    {
     "ename": "ValueError",
     "evalue": "Coordinates {coords} must all have the same dimensions in the same order",
     "output_type": "error",
     "traceback": [
      "\u001b[0;31m---------------------------------------------------------------------------\u001b[0m",
      "\u001b[0;31mValueError\u001b[0m                                Traceback (most recent call last)",
      "\u001b[0;32m<ipython-input-46-33fc9115be70>\u001b[0m in \u001b[0;36m<module>\u001b[0;34m\u001b[0m\n\u001b[0;32m----> 1\u001b[0;31m \u001b[0mds_ua\u001b[0m\u001b[0;34m.\u001b[0m\u001b[0mxoak\u001b[0m\u001b[0;34m.\u001b[0m\u001b[0mset_index\u001b[0m\u001b[0;34m(\u001b[0m\u001b[0;34m[\u001b[0m\u001b[0;34m'lat'\u001b[0m\u001b[0;34m,\u001b[0m \u001b[0;34m'lon'\u001b[0m\u001b[0;34m]\u001b[0m\u001b[0;34m,\u001b[0m \u001b[0;34m'sklearn_geo_balltree'\u001b[0m\u001b[0;34m)\u001b[0m\u001b[0;34m\u001b[0m\u001b[0;34m\u001b[0m\u001b[0m\n\u001b[0m",
      "\u001b[0;32m~/anaconda3/lib/python3.6/site-packages/xoak/accessor.py\u001b[0m in \u001b[0;36mset_index\u001b[0;34m(self, coords, index_type, persist, **kwargs)\u001b[0m\n\u001b[1;32m    103\u001b[0m         \u001b[0;32mif\u001b[0m \u001b[0mlen\u001b[0m\u001b[0;34m(\u001b[0m\u001b[0mset\u001b[0m\u001b[0;34m(\u001b[0m\u001b[0;34m[\u001b[0m\u001b[0mc\u001b[0m\u001b[0;34m.\u001b[0m\u001b[0mdims\u001b[0m \u001b[0;32mfor\u001b[0m \u001b[0mc\u001b[0m \u001b[0;32min\u001b[0m \u001b[0mcoord_objs\u001b[0m\u001b[0;34m]\u001b[0m\u001b[0;34m)\u001b[0m\u001b[0;34m)\u001b[0m \u001b[0;34m>\u001b[0m \u001b[0;36m1\u001b[0m\u001b[0;34m:\u001b[0m\u001b[0;34m\u001b[0m\u001b[0;34m\u001b[0m\u001b[0m\n\u001b[1;32m    104\u001b[0m             raise ValueError(\n\u001b[0;32m--> 105\u001b[0;31m                 \u001b[0;34m'Coordinates {coords} must all have the same dimensions in the same order'\u001b[0m\u001b[0;34m\u001b[0m\u001b[0;34m\u001b[0m\u001b[0m\n\u001b[0m\u001b[1;32m    106\u001b[0m             )\n\u001b[1;32m    107\u001b[0m \u001b[0;34m\u001b[0m\u001b[0m\n",
      "\u001b[0;31mValueError\u001b[0m: Coordinates {coords} must all have the same dimensions in the same order"
     ]
    }
   ],
   "source": [
    "ds_ua.xoak.set_index(['lat', 'lon'], 'sklearn_geo_balltree')"
   ]
  },
  {
   "cell_type": "code",
   "execution_count": 47,
   "metadata": {},
   "outputs": [
    {
     "data": {
      "text/plain": [
       "<xarray.Dataset>\n",
       "Dimensions:   (lat: 621, lon: 1405, time: 1826, time_str_len: 11)\n",
       "Coordinates:\n",
       "  * lat       (lat) float32 24.083334 24.125 24.166666 24.208334 24.25 ...\n",
       "  * lon       (lon) float32 -125.0 -124.958336 -124.916664 -124.875 ...\n",
       "  * time      (time) datetime64[ns] 2012-10-01 2012-10-02 2012-10-03 ...\n",
       "Dimensions without coordinates: time_str_len\n",
       "Data variables:\n",
       "    crs       (time) |S1 b'' b'' b'' b'' b'' b'' b'' b'' b'' b'' b'' b'' b'' ...\n",
       "    time_str  (time_str_len, time) |S1 dask.array<shape=(11, 1826), chunksize=(11, 365)>\n",
       "    SWE       (time, lat, lon) float32 dask.array<shape=(1826, 621, 1405), chunksize=(365, 621, 1405)>\n",
       "    DEPTH     (time, lat, lon) float32 dask.array<shape=(1826, 621, 1405), chunksize=(365, 621, 1405)>"
      ]
     },
     "execution_count": 47,
     "metadata": {},
     "output_type": "execute_result"
    }
   ],
   "source": [
    "ds_ua"
   ]
  },
  {
   "cell_type": "code",
   "execution_count": 48,
   "metadata": {},
   "outputs": [
    {
     "data": {
      "text/plain": [
       "<xarray.Dataset>\n",
       "Dimensions:  (x: 100, y: 100)\n",
       "Coordinates:\n",
       "    lat      (x, y) float64 19.31 27.73 -10.93 1.032 -18.08 -76.77 86.78 ...\n",
       "    lon      (x, y) float64 172.2 -91.2 56.69 -127.9 -45.15 -44.48 -5.636 ...\n",
       "Dimensions without coordinates: x, y\n",
       "Data variables:\n",
       "    field    (x, y) float64 191.5 -63.46 45.76 -126.8 -63.22 -121.2 81.14 ..."
      ]
     },
     "execution_count": 48,
     "metadata": {},
     "output_type": "execute_result"
    }
   ],
   "source": [
    "ds_mesh"
   ]
  },
  {
   "cell_type": "code",
   "execution_count": null,
   "metadata": {},
   "outputs": [],
   "source": []
  }
 ],
 "metadata": {
  "kernelspec": {
   "display_name": "Python 3",
   "language": "python",
   "name": "python3"
  },
  "language_info": {
   "codemirror_mode": {
    "name": "ipython",
    "version": 3
   },
   "file_extension": ".py",
   "mimetype": "text/x-python",
   "name": "python",
   "nbconvert_exporter": "python",
   "pygments_lexer": "ipython3",
   "version": "3.6.7"
  }
 },
 "nbformat": 4,
 "nbformat_minor": 2
}
