{
 "cells": [
  {
   "cell_type": "code",
   "execution_count": null,
   "metadata": {},
   "outputs": [],
   "source": [
    "%reset"
   ]
  },
  {
   "cell_type": "code",
   "execution_count": 11,
   "metadata": {},
   "outputs": [],
   "source": [
    "import xarray as xr\n",
    "import glob\n",
    "import pandas as pd\n",
    "#data = xr.open_dataset('LIS_HIST_nn_200909.nc', engine = 'netcdf4') \n",
    "#print(data)\n",
    "#lon = data.lon.values[0]\n",
    "path = '/Users/carina/Desktop/data/seup/TUM/SEUP/'\n",
    "\n",
    "fileList = glob.glob(path + '*.nc')\n",
    "fileList.sort()\n"
   ]
  },
  {
   "cell_type": "code",
   "execution_count": 6,
   "metadata": {},
   "outputs": [],
   "source": [
    "def process_month(file):\n",
    "    data = xr.open_dataset(file, engine = 'netcdf4') \n",
    "    attrs_ = {'units': 'hours since 1900-01-01'}\n",
    "    ds_temp = xr.Dataset({'time': ('time', data.time, attrs_)})\n",
    "    temp = xr.decode_cf(ds_temp)\n",
    "    ds_reduced = xr.Dataset({'SnowDepth': (['time'], data.SnowDepth_tavg.values[:, 0, 0]),\n",
    "                                  'SnowT':(['time'], data.SnowT_tavg.values[:, 0, 0, 0]),\n",
    "                                  'Qs_tavg':(['time'], data.Qs_tavg.values[:, 0, 0]),\n",
    "                                  'SWE_tavg':(['time'], data.SWE_tavg.values[:, 0, 0])},\n",
    "                                 coords = {'longitude': (data.lon.values[0, 0, 0]),\n",
    "                                           'latitude': (data.lat.values[0, 0, 0]),\n",
    "                                           'time': temp.time.values})\n",
    "    return ds_reduced"
   ]
  },
  {
   "cell_type": "code",
   "execution_count": 7,
   "metadata": {},
   "outputs": [],
   "source": [
    "ds_total = None\n",
    "for file in fileList:\n",
    "    ds = process_month(file)\n",
    "    if ds_total:\n",
    "        ds_total = xr.concat([ds_total, ds], dim = 'time')\n",
    "    else:\n",
    "        ds_total = ds"
   ]
  },
  {
   "cell_type": "code",
   "execution_count": 12,
   "metadata": {},
   "outputs": [
    {
     "data": {
      "text/plain": [
       "<xarray.Dataset>\n",
       "Dimensions:           (SnowDensity_profiles: 3, SnowGrain_profiles: 3, SnowIce_profiles: 3, SnowLiq_profiles: 3, SnowT_profiles: 3, SnowThick_profiles: 3, SoilMoist_profiles: 4, SoilTemp_profiles: 4, east_west: 1, north_south: 1, time: 240)\n",
       "Coordinates:\n",
       "  * time              (time) int32 961332 961335 961338 961341 961344 961347 ...\n",
       "Dimensions without coordinates: SnowDensity_profiles, SnowGrain_profiles, SnowIce_profiles, SnowLiq_profiles, SnowT_profiles, SnowThick_profiles, SoilMoist_profiles, SoilTemp_profiles, east_west, north_south\n",
       "Data variables:\n",
       "    Albedo_tavg       (time, north_south, east_west) float32 ...\n",
       "    Evap_tavg         (time, north_south, east_west) float32 ...\n",
       "    LAI_tavg          (time, north_south, east_west) float32 ...\n",
       "    Lwnet_tavg        (time, north_south, east_west) float32 ...\n",
       "    Qh_tavg           (time, north_south, east_west) float32 ...\n",
       "    Qle_tavg          (time, north_south, east_west) float32 ...\n",
       "    Qs_tavg           (time, north_south, east_west) float32 ...\n",
       "    Qsb_tavg          (time, north_south, east_west) float32 ...\n",
       "    Qsm_tavg          (time, north_south, east_west) float32 ...\n",
       "    RadT_tavg         (time, north_south, east_west) float32 ...\n",
       "    Rainf_tavg        (time, north_south, east_west) float32 ...\n",
       "    SWE_tavg          (time, north_south, east_west) float32 ...\n",
       "    SnowCover_tavg    (time, north_south, east_west) float32 ...\n",
       "    SnowDensity_tavg  (time, SnowDensity_profiles, north_south, east_west) float32 ...\n",
       "    SnowDepth_tavg    (time, north_south, east_west) float32 ...\n",
       "    SnowGrain_tavg    (time, SnowGrain_profiles, north_south, east_west) float32 ...\n",
       "    SnowIce_tavg      (time, SnowIce_profiles, north_south, east_west) float32 ...\n",
       "    SnowLiq_tavg      (time, SnowLiq_profiles, north_south, east_west) float32 ...\n",
       "    SnowT_tavg        (time, SnowT_profiles, north_south, east_west) float32 ...\n",
       "    SnowThick_tavg    (time, SnowThick_profiles, north_south, east_west) float32 ...\n",
       "    Snowf_tavg        (time, north_south, east_west) float32 ...\n",
       "    SoilMoist_tavg    (time, SoilMoist_profiles, north_south, east_west) float32 ...\n",
       "    SoilTemp_tavg     (time, SoilTemp_profiles, north_south, east_west) float32 ...\n",
       "    Swnet_tavg        (time, north_south, east_west) float32 ...\n",
       "    lat               (time, north_south, east_west) float32 ...\n",
       "    lon               (time, north_south, east_west) float32 ...\n",
       "Attributes:\n",
       "    missing_value:             -9999.0\n",
       "    NUM_SOIL_LAYERS:           4\n",
       "    SOIL_LAYER_THICKNESSES:    [  10.   25.   65.  200.]\n",
       "    title:                     LIS land surface model output\n",
       "    institution:               NASA GSFC\n",
       "    source:                    +template glacier\n",
       "    history:                   Mon Sep 17 15:54:57 2018: ncrcat /home/seup/mu...\n",
       "    references:                Kumar_etal_EMS_2006, Peters-Lidard_etal_ISSE_2007\n",
       "    conventions:               CF-1.6\n",
       "    comment:                   website: http://lis.gsfc.nasa.gov/\n",
       "    MAP_PROJECTION:            EQUIDISTANT CYLINDRICAL\n",
       "    SOUTH_WEST_CORNER_LAT:     24.875\n",
       "    SOUTH_WEST_CORNER_LON:     -168.625\n",
       "    DX:                        0.05\n",
       "    DY:                        0.05\n",
       "    NCO:                       \"4.6.1\"\n",
       "    nco_openmp_thread_number:  1"
      ]
     },
     "execution_count": 12,
     "metadata": {},
     "output_type": "execute_result"
    }
   ],
   "source": [
    "dat = xr.open_dataset(path + 'LIS_HIST_nn_200909.nc', engine = 'netcdf4') \n",
    "a = dat.SnowT_tavg.to_dataframe()\n",
    "#a\n",
    "b = a.groupby(\"SnowT_tavg\")\n",
    "#a.north_south.plot()\n",
    "b.plot()\n",
    "dat"
   ]
  },
  {
   "cell_type": "code",
   "execution_count": 18,
   "metadata": {},
   "outputs": [],
   "source": [
    "# xarray dataset for Dana\n",
    "dana = pd.read_csv(path + 'hourly_met_DANA_IDSOCLOUd_scaledP_1.1.txt', sep=r'\\t', engine='python')\n",
    "dana.columns = ['date', 'air_t', 'ws', 'RH', 'SW', 'LW', 'Precip'] \n",
    "dana['hours'] = dana.index\n",
    "attrs_dana = {'units': 'hours since 2002-10-01'}\n",
    "ds_temp_dana = xr.Dataset({'time': ('time', dana.hours, attrs_dana)})\n",
    "\n",
    "temp_dana = xr.decode_cf(ds_temp_dana)\n",
    "ds_dana = xr.Dataset({'air_t': (['time'], dana.air_t),\n",
    "                                  'ws':(['time'], dana.ws),\n",
    "                                  'RH':(['time'], dana.RH),\n",
    "                                  'SW':(['time'], dana.SW),\n",
    "                                  'LW':(['time'], dana.LW),\n",
    "                              'Precip':(['time'], dana.Precip)},\n",
    "                                 coords = {'longitude': 37.897,\n",
    "                                           'latitude': -119.257,\n",
    "                                           'time': temp_dana.time.values})\n"
   ]
  },
  {
   "cell_type": "code",
   "execution_count": 19,
   "metadata": {},
   "outputs": [
    {
     "ename": "AttributeError",
     "evalue": "'NoneType' object has no attribute 'resample'",
     "output_type": "error",
     "traceback": [
      "\u001b[0;31m---------------------------------------------------------------------------\u001b[0m",
      "\u001b[0;31mAttributeError\u001b[0m                            Traceback (most recent call last)",
      "\u001b[0;32m<ipython-input-19-7d6ddebb35e2>\u001b[0m in \u001b[0;36m<module>\u001b[0;34m()\u001b[0m\n\u001b[1;32m      2\u001b[0m \u001b[0mget_ipython\u001b[0m\u001b[0;34m(\u001b[0m\u001b[0;34m)\u001b[0m\u001b[0;34m.\u001b[0m\u001b[0mrun_line_magic\u001b[0m\u001b[0;34m(\u001b[0m\u001b[0;34m'matplotlib'\u001b[0m\u001b[0;34m,\u001b[0m \u001b[0;34m'inline'\u001b[0m\u001b[0;34m)\u001b[0m\u001b[0;34m\u001b[0m\u001b[0m\n\u001b[1;32m      3\u001b[0m \u001b[0mmonthly_avg_dana\u001b[0m \u001b[0;34m=\u001b[0m \u001b[0mds_dana\u001b[0m\u001b[0;34m.\u001b[0m\u001b[0mresample\u001b[0m\u001b[0;34m(\u001b[0m\u001b[0mtime\u001b[0m\u001b[0;34m=\u001b[0m\u001b[0;34m'1MS'\u001b[0m\u001b[0;34m)\u001b[0m\u001b[0;34m.\u001b[0m\u001b[0mmean\u001b[0m\u001b[0;34m(\u001b[0m\u001b[0;34m)\u001b[0m\u001b[0;34m\u001b[0m\u001b[0m\n\u001b[0;32m----> 4\u001b[0;31m \u001b[0mmonthly_avg_seup\u001b[0m \u001b[0;34m=\u001b[0m \u001b[0mds_total\u001b[0m\u001b[0;34m.\u001b[0m\u001b[0mresample\u001b[0m\u001b[0;34m(\u001b[0m\u001b[0mtime\u001b[0m\u001b[0;34m=\u001b[0m\u001b[0;34m'1MS'\u001b[0m\u001b[0;34m)\u001b[0m\u001b[0;34m.\u001b[0m\u001b[0mmean\u001b[0m\u001b[0;34m(\u001b[0m\u001b[0;34m)\u001b[0m\u001b[0;34m\u001b[0m\u001b[0m\n\u001b[0m\u001b[1;32m      5\u001b[0m \u001b[0ma\u001b[0m \u001b[0;34m=\u001b[0m \u001b[0mmonthly_avg_dana\u001b[0m\u001b[0;34m.\u001b[0m\u001b[0mair_t\u001b[0m\u001b[0;34m.\u001b[0m\u001b[0mto_dataframe\u001b[0m\u001b[0;34m(\u001b[0m\u001b[0;34m)\u001b[0m\u001b[0;34m\u001b[0m\u001b[0m\n\u001b[1;32m      6\u001b[0m \u001b[0;31m#b = monthly_avg_seup\u001b[0m\u001b[0;34m\u001b[0m\u001b[0;34m\u001b[0m\u001b[0m\n",
      "\u001b[0;31mAttributeError\u001b[0m: 'NoneType' object has no attribute 'resample'"
     ]
    }
   ],
   "source": [
    "import matplotlib.pyplot as plt\n",
    "%matplotlib inline\n",
    "monthly_avg_dana = ds_dana.resample(time='1MS').mean()\n",
    "monthly_avg_seup = ds_total.resample(time='1MS').mean()\n",
    "a = monthly_avg_dana.air_t.to_dataframe()\n",
    "#b = monthly_avg_seup\n",
    "a.air_t.plot()"
   ]
  },
  {
   "cell_type": "code",
   "execution_count": null,
   "metadata": {},
   "outputs": [],
   "source": []
  },
  {
   "cell_type": "code",
   "execution_count": 16,
   "metadata": {},
   "outputs": [
    {
     "data": {
      "text/plain": [
       "<xarray.Dataset>\n",
       "Dimensions:    (time: 130031)\n",
       "Coordinates:\n",
       "    longitude  float64 37.9\n",
       "    latitude   float64 -119.3\n",
       "  * time       (time) datetime64[ns] 2002-10-01 2002-10-01T01:00:00 ...\n",
       "Data variables:\n",
       "    air_t      (time) float64 -5.56 -6.11 -6.67 -7.78 -7.22 -7.78 -6.11 ...\n",
       "    ws         (time) float64 0.447 0.447 0.447 0.447 0.447 0.447 0.894 ...\n",
       "    RH         (time) float64 52.0 44.0 41.0 47.0 88.0 94.0 88.0 62.0 50.0 ...\n",
       "    SW         (time) float64 0.0 0.0 0.0 0.0 0.0 0.0 17.69 124.6 236.8 ...\n",
       "    LW         (time) float64 215.4 212.0 209.4 206.5 215.2 214.0 284.4 ...\n",
       "    Precip     (time) float64 0.0 0.0 0.0 0.0 0.0 0.0 0.0 0.0 0.0 0.0 0.0 ..."
      ]
     },
     "execution_count": 16,
     "metadata": {},
     "output_type": "execute_result"
    }
   ],
   "source": [
    "ds_dana"
   ]
  },
  {
   "cell_type": "code",
   "execution_count": null,
   "metadata": {},
   "outputs": [],
   "source": []
  }
 ],
 "metadata": {
  "kernelspec": {
   "display_name": "Python 3",
   "language": "python",
   "name": "python3"
  },
  "language_info": {
   "codemirror_mode": {
    "name": "ipython",
    "version": 3
   },
   "file_extension": ".py",
   "mimetype": "text/x-python",
   "name": "python",
   "nbconvert_exporter": "python",
   "pygments_lexer": "ipython3",
   "version": "3.6.7"
  }
 },
 "nbformat": 4,
 "nbformat_minor": 2
}
