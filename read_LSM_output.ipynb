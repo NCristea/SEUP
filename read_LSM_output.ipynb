{
 "cells": [
  {
   "cell_type": "markdown",
   "metadata": {},
   "source": [
    "# This notebook examplifies reading land surface model output netcdf files, plotting and saving as tif \n",
    "load Python packages and set path to data"
   ]
  },
  {
   "cell_type": "code",
   "execution_count": 25,
   "metadata": {},
   "outputs": [],
   "source": [
    "import xarray as xr\n",
    "import glob\n",
    "import pandas as pd\n",
    "import numpy as np\n",
    "import xarray as xr\n",
    "from matplotlib import pyplot as plt\n",
    "#data = xr.open_dataset('LIS_HIST_nn_200909.nc', engine = 'netcdf4') \n",
    "#print(data)\n",
    "#lon = data.lon.values[0]\n",
    "path = '/Users/carina/Desktop/data/seup/TUM/SEUP/'\n",
    "\n",
    "#fileList = glob.glob(path + '*.nc')\n",
    "#fileList.sort()"
   ]
  },
  {
   "cell_type": "code",
   "execution_count": 21,
   "metadata": {},
   "outputs": [
    {
     "data": {
      "text/plain": [
       "<xarray.Dataset>\n",
       "Dimensions:   (east_west: 2336, north_south: 941, time: 29)\n",
       "Coordinates:\n",
       "  * time      (time) datetime64[ns] 2016-02-01T12:00:00 2016-02-02T12:00:00 ...\n",
       "Dimensions without coordinates: east_west, north_south\n",
       "Data variables:\n",
       "    SWE_tavg  (time, north_south, east_west) float32 ...\n",
       "Attributes:\n",
       "    missing_value:           -9999.0\n",
       "    NUM_SOIL_LAYERS:         4\n",
       "    SOIL_LAYER_THICKNESSES:  [ 10.  25.  65. 200.]\n",
       "    title:                   LIS land surface model output\n",
       "    institution:             NASA GSFC\n",
       "    source:                  +template glacier\n",
       "    references:              Kumar_etal_EMS_2006, Peters-Lidard_etal_ISSE_2007\n",
       "    conventions:             CF-1.6\n",
       "    comment:                 website: http://lis.gsfc.nasa.gov/\n",
       "    MAP_PROJECTION:          EQUIDISTANT CYLINDRICAL\n",
       "    SOUTH_WEST_CORNER_LAT:   24.875\n",
       "    SOUTH_WEST_CORNER_LON:   -168.625\n",
       "    DX:                      0.05\n",
       "    DY:                      0.05\n",
       "    history:                 Fri Nov 30 15:29:42 EST 2018: ncrcat LIS_HIST_20..."
      ]
     },
     "execution_count": 21,
     "metadata": {},
     "output_type": "execute_result"
    }
   ],
   "source": [
    "#upload data and explore the file \n",
    "\n",
    "dat = xr.open_dataset(path + 'LIS_HIST_SWE_20160201-201602dd.nc', engine = 'netcdf4') \n",
    "#a = dat.SnowT_tavg.to_dataframe()\n",
    "#a\n",
    "#b = a.groupby(\"SnowT_tavg\")\n",
    "#a.north_south.plot()\n",
    "#b.plot()\n",
    "\n",
    "dat\n",
    "\n"
   ]
  },
  {
   "cell_type": "code",
   "execution_count": 22,
   "metadata": {},
   "outputs": [
    {
     "data": {
      "text/plain": [
       "<matplotlib.collections.QuadMesh at 0x10784bba8>"
      ]
     },
     "execution_count": 22,
     "metadata": {},
     "output_type": "execute_result"
    },
    {
     "data": {
      "image/png": "[encoded data removed]",
      "text/plain": [
       "<Figure size 432x288 with 2 Axes>"
      ]
     },
     "metadata": {
      "needs_background": "light"
     },
     "output_type": "display_data"
    }
   ],
   "source": [
    "%matplotlib inline \n",
    "DataArray = dat.SWE_tavg.sel(time = '2016-02-01T12:00:00')\n",
    "DataArray.plot()\n"
   ]
  },
  {
   "cell_type": "code",
   "execution_count": 24,
   "metadata": {},
   "outputs": [
    {
     "data": {
      "text/plain": [
       "<bound method ImplementsArrayReduce._reduce_method.<locals>.wrapped_func of <xarray.DataArray 'SWE_tavg' (time: 29, north_south: 941, east_west: 2336)>\n",
       "[63747104 values with dtype=float32]\n",
       "Coordinates:\n",
       "  * time     (time) datetime64[ns] 2016-02-01T12:00:00 2016-02-02T12:00:00 ...\n",
       "Dimensions without coordinates: north_south, east_west\n",
       "Attributes:\n",
       "    units:          kg m-2\n",
       "    standard_name:  liquid_water_content_of_surface_snow\n",
       "    long_name:      snow water equivalent\n",
       "    vmin:           0.0\n",
       "    vmax:           0.0>"
      ]
     },
     "execution_count": 24,
     "metadata": {},
     "output_type": "execute_result"
    }
   ],
   "source": [
    "test = dat.SWE_tavg.mean\n",
    "test"
   ]
  },
  {
   "cell_type": "code",
   "execution_count": 22,
   "metadata": {},
   "outputs": [],
   "source": [
    "#dat.SWE_tavg[:,988,261].plot() \n"
   ]
  },
  {
   "cell_type": "code",
   "execution_count": 26,
   "metadata": {},
   "outputs": [],
   "source": [
    "%matplotlib inline\n",
    "plt.rcParams['figure.figsize'] = (8,5)"
   ]
  },
  {
   "cell_type": "code",
   "execution_count": 27,
   "metadata": {},
   "outputs": [
    {
     "data": {
      "text/plain": [
       "<xarray.DataArray (dim_0: 5)>\n",
       "array([9, 0, 2, 1, 0])\n",
       "Dimensions without coordinates: dim_0"
      ]
     },
     "execution_count": 27,
     "metadata": {},
     "output_type": "execute_result"
    }
   ],
   "source": [
    "da = xr.DataArray([9, 0, 2, 1, 0])\n",
    "da"
   ]
  },
  {
   "cell_type": "code",
   "execution_count": 28,
   "metadata": {},
   "outputs": [
    {
     "data": {
      "text/plain": [
       "<xarray.DataArray (x: 5)>\n",
       "array([9, 0, 2, 1, 0])\n",
       "Dimensions without coordinates: x"
      ]
     },
     "execution_count": 28,
     "metadata": {},
     "output_type": "execute_result"
    }
   ],
   "source": [
    "da = xr.DataArray([9, 0, 2, 1, 0], dims=['x'])\n",
    "da"
   ]
  },
  {
   "cell_type": "code",
   "execution_count": 29,
   "metadata": {},
   "outputs": [
    {
     "data": {
      "text/plain": [
       "<xarray.Dataset>\n",
       "Dimensions:   (east_west: 15, north_south: 11, time: 1)\n",
       "Coordinates:\n",
       "  * time      (time) datetime64[ns] 2014-04-07T12:00:00\n",
       "Dimensions without coordinates: east_west, north_south\n",
       "Data variables:\n",
       "    SWE_tavg  (north_south, east_west) float32 ...\n",
       "    lat       (north_south, east_west) float32 ...\n",
       "    lon       (north_south, east_west) float32 ...\n",
       "Attributes:\n",
       "    missing_value:           -9999.0\n",
       "    NUM_SOIL_LAYERS:         3\n",
       "    SOIL_LAYER_THICKNESSES:  [  2. 100. 200.]\n",
       "    title:                   LIS land surface model output\n",
       "    institution:             NASA GSFC\n",
       "    source:                  +template glacier\n",
       "    history:                 Mon Jun 17 21:52:00 2019: ncks -v time,lat,lon,S...\n",
       "    references:              Kumar_etal_EMS_2006, Peters-Lidard_etal_ISSE_2007\n",
       "    conventions:             CF-1.6\n",
       "    comment:                 website: http://lis.gsfc.nasa.gov/\n",
       "    MAP_PROJECTION:          EQUIDISTANT CYLINDRICAL\n",
       "    SOUTH_WEST_CORNER_LAT:   24.875\n",
       "    SOUTH_WEST_CORNER_LON:   -168.625\n",
       "    DX:                      0.05\n",
       "    DY:                      0.05\n",
       "    NCO:                     \"4.6.1\""
      ]
     },
     "execution_count": 29,
     "metadata": {},
     "output_type": "execute_result"
    }
   ],
   "source": [
    "\n",
    "path1 = '/Users/carina/Desktop/data/seup/DAN/'\n",
    "dat1 = xr.open_dataset(path1 + 'CLSMF2.5_ECMWF_SWE201404071200.d01.nc', engine = 'netcdf4') \n",
    "#a = dat.SnowT_tavg.to_dataframe()\n",
    "#a\n",
    "#b = a.groupby(\"SnowT_tavg\")\n",
    "#a.north_south.plot()\n",
    "#b.plot()\n",
    "dat1"
   ]
  },
  {
   "cell_type": "code",
   "execution_count": 30,
   "metadata": {},
   "outputs": [
    {
     "data": {
      "text/plain": [
       "<matplotlib.collections.QuadMesh at 0x10a491550>"
      ]
     },
     "execution_count": 30,
     "metadata": {},
     "output_type": "execute_result"
    },
    {
     "data": {
      "image/png": "[encoded data removed]",
      "text/plain": [
       "<Figure size 432x288 with 2 Axes>"
      ]
     },
     "metadata": {
      "needs_background": "light"
     },
     "output_type": "display_data"
    }
   ],
   "source": [
    "#%matplotlib widget\n",
    "%matplotlib inline\n",
    "DataArray1 = dat1.SWE_tavg\n",
    "DataArray1.plot()"
   ]
  },
  {
   "cell_type": "code",
   "execution_count": 11,
   "metadata": {},
   "outputs": [],
   "source": [
    "#print(DataArray1)\n"
   ]
  },
  {
   "cell_type": "code",
   "execution_count": 31,
   "metadata": {},
   "outputs": [],
   "source": [
    "CLSMF25_ECMWF_SWE201404071200 = dat1.SWE_tavg.values\n",
    "#CLSMF25_ECMWF_SWE201404071200.to_csv\n",
    "pd.DataFrame(CLSMF25_ECMWF_SWE201404071200).to_csv('CLSMF25_ECMWF_SWE201404071200.csv')\n",
    "#CLSMF25_ECMWF_SWE201404071200.savetxt('test.txt')"
   ]
  },
  {
   "cell_type": "code",
   "execution_count": 32,
   "metadata": {},
   "outputs": [],
   "source": [
    "lat = dat1.lat.values\n",
    "lon = dat1.lon.values\n",
    "pd.DataFrame(lat).to_csv('lat_seup_tum.csv')\n",
    "pd.DataFrame(lon).to_csv('long_seup_tum.csv')"
   ]
  },
  {
   "cell_type": "code",
   "execution_count": 16,
   "metadata": {},
   "outputs": [
    {
     "ename": "SyntaxError",
     "evalue": "invalid syntax (<ipython-input-16-aa2dffea71ca>, line 5)",
     "output_type": "error",
     "traceback": [
      "\u001b[0;36m  File \u001b[0;32m\"<ipython-input-16-aa2dffea71ca>\"\u001b[0;36m, line \u001b[0;32m5\u001b[0m\n\u001b[0;31m    gdal_translate -r cubic -of VRT -co COMPRESS=deflate -unscale -a_nodata -32767.0 -a_srs EPSG:4326  netcdf4:\"NoahMP_GDAS_SWE201404071200.d01.nc\"://Users/carina/Desktop/data/seup/DAN  NoahMP_GDAS_SWE201404071200.d01.vrt\u001b[0m\n\u001b[0m                          ^\u001b[0m\n\u001b[0;31mSyntaxError\u001b[0m\u001b[0;31m:\u001b[0m invalid syntax\n"
     ]
    }
   ],
   "source": [
    "from osgeo import gdal\n",
    "\n",
    "#gdal_translate -of GTiff NoahMP_GDAS_SWE201404071200.d01.nc test.tiff\n",
    "\n",
    "gdal_translate -r cubic -of VRT -co COMPRESS=deflate -unscale -a_nodata -32767.0 -a_srs EPSG:4326  netcdf4:\"NoahMP_GDAS_SWE201404071200.d01.nc\"://Users/carina/Desktop/data/seup/DAN  NoahMP_GDAS_SWE201404071200.d01.vrt\n",
    "\n",
    "gdalwarp -of GTIFF -tps  NoahMP_GDAS_SWE201404071200.d01.vrt  NoahMP_GDAS_SWE201404071200.d01.nc.tif\n"
   ]
  },
  {
   "cell_type": "code",
   "execution_count": 15,
   "metadata": {},
   "outputs": [
    {
     "ename": "SyntaxError",
     "evalue": "invalid syntax (<ipython-input-15-f8e4916ad685>, line 1)",
     "output_type": "error",
     "traceback": [
      "\u001b[0;36m  File \u001b[0;32m\"<ipython-input-15-f8e4916ad685>\"\u001b[0;36m, line \u001b[0;32m1\u001b[0m\n\u001b[0;31m    gdal_translate NoahMP_GDAS_SWE201404071200.d01.nc NoahMP_GDAS_SWE201404071200.d01_1.nc \\\u001b[0m\n\u001b[0m                                             ^\u001b[0m\n\u001b[0;31mSyntaxError\u001b[0m\u001b[0;31m:\u001b[0m invalid syntax\n"
     ]
    }
   ],
   "source": [
    "gdal_translate NoahMP_GDAS_SWE201404071200.d01.nc NoahMP_GDAS_SWE201404071200.d01_1.nc \\\n",
    "    -of NetCDF -a_nodata -3276.8 -ot Float32 -b 244 -unscale -a_srs epsg:4326"
   ]
  },
  {
   "cell_type": "code",
   "execution_count": null,
   "metadata": {},
   "outputs": [],
   "source": []
  }
 ],
 "metadata": {
  "kernelspec": {
   "display_name": "Python 3",
   "language": "python",
   "name": "python3"
  },
  "language_info": {
   "codemirror_mode": {
    "name": "ipython",
    "version": 3
   },
   "file_extension": ".py",
   "mimetype": "text/x-python",
   "name": "python",
   "nbconvert_exporter": "python",
   "pygments_lexer": "ipython3",
   "version": "3.6.7"
  }
 },
 "nbformat": 4,
 "nbformat_minor": 4
}
