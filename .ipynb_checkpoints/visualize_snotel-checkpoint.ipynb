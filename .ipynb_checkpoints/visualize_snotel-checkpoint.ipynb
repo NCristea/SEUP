{
 "cells": [
  {
   "cell_type": "code",
   "execution_count": 140,
   "metadata": {},
   "outputs": [
    {
     "name": "stdout",
     "output_type": "stream",
     "text": [
      "Once deleted, variables cannot be recovered. Proceed (y/[n])? y\n"
     ]
    }
   ],
   "source": [
    "# run this cell to clean up the variables \n",
    "%reset"
   ]
  },
  {
   "cell_type": "code",
   "execution_count": 141,
   "metadata": {},
   "outputs": [],
   "source": [
    "import geopandas as gpd\n",
    "from shapely.geometry import Polygon\n",
    "import folium\n",
    "from os.path import basename, splitext\n",
    "import pandas as pd\n",
    "import glob\n",
    "import os\n",
    "from pandas import DataFrame\n",
    "from geopandas import GeoDataFrame\n",
    "from shapely.geometry import Point"
   ]
  },
  {
   "cell_type": "code",
   "execution_count": 193,
   "metadata": {},
   "outputs": [],
   "source": [
    "import rasterio\n",
    "import matplotlib.pyplot as plt\n",
    "import cartopy.crs as ccrs\n",
    "from cartopy.io.shapereader import Reader\n",
    "from cartopy.feature import ShapelyFeature  \n",
    "from matplotlib import pyplot\n",
    "#import rasterstats\n",
    "import regionmask\n",
    "import xarray as xr\n",
    "#import xesmf as xe\n",
    "import numpy as np\n",
    "import dask.array as da\n",
    "import xoak"
   ]
  },
  {
   "cell_type": "code",
   "execution_count": 143,
   "metadata": {},
   "outputs": [],
   "source": [
    "file_path_metadata = '/Users/carina/Desktop/code/SEUP/ground_measures_metadata.csv'\n",
    "file_path_train = '/Users/carina/Desktop/code/SEUP/ground_measures_train_features.csv'\n",
    "file_path_test = '/Users/carina/Desktop/code/SEUP/ground_measures_test_features.csv'\n",
    "file_path_train_labels = '/Users/carina/Desktop/code/SEUP/train_labels.csv'"
   ]
  },
  {
   "cell_type": "code",
   "execution_count": 144,
   "metadata": {},
   "outputs": [],
   "source": [
    "#load metadata \n",
    "df_snotel_labels = pd.read_csv(file_path_train_labels)\n",
    "#df_snotel_labels"
   ]
  },
  {
   "cell_type": "code",
   "execution_count": 145,
   "metadata": {},
   "outputs": [],
   "source": [
    "#load metadata \n",
    "df_snotel_ml = pd.read_csv(file_path_metadata)\n",
    "#df_snotel_ml"
   ]
  },
  {
   "cell_type": "code",
   "execution_count": 146,
   "metadata": {},
   "outputs": [],
   "source": [
    "#load train\n",
    "df_snotel_train = pd.read_csv(file_path_train)\n",
    "#df_snotel_train"
   ]
  },
  {
   "cell_type": "code",
   "execution_count": 148,
   "metadata": {},
   "outputs": [],
   "source": [
    "#load train\n",
    "df_snotel_test = pd.read_csv(file_path_test)\n",
    "#df_snotel_test"
   ]
  },
  {
   "cell_type": "code",
   "execution_count": 149,
   "metadata": {},
   "outputs": [
    {
     "data": {
      "text/html": [
       "<div>\n",
       "<style scoped>\n",
       "    .dataframe tbody tr th:only-of-type {\n",
       "        vertical-align: middle;\n",
       "    }\n",
       "\n",
       "    .dataframe tbody tr th {\n",
       "        vertical-align: top;\n",
       "    }\n",
       "\n",
       "    .dataframe thead th {\n",
       "        text-align: right;\n",
       "    }\n",
       "</style>\n",
       "<table border=\"1\" class=\"dataframe\">\n",
       "  <thead>\n",
       "    <tr style=\"text-align: right;\">\n",
       "      <th></th>\n",
       "      <th>cell_id</th>\n",
       "      <th>region</th>\n",
       "      <th>geometry</th>\n",
       "    </tr>\n",
       "  </thead>\n",
       "  <tbody>\n",
       "    <tr>\n",
       "      <th>0</th>\n",
       "      <td>0003f387-71c4-48f6-b2b0-d853bd4f0aba</td>\n",
       "      <td>sierras</td>\n",
       "      <td>POLYGON ((-118.71895 37.07419, -118.71895 37.0...</td>\n",
       "    </tr>\n",
       "    <tr>\n",
       "      <th>1</th>\n",
       "      <td>000617d8-8c14-43e2-b708-7e3a69fe3cc3</td>\n",
       "      <td>central rockies</td>\n",
       "      <td>POLYGON ((-107.07679 37.78042, -107.07679 37.7...</td>\n",
       "    </tr>\n",
       "    <tr>\n",
       "      <th>2</th>\n",
       "      <td>000863e7-21e6-477d-b799-f5675c348627</td>\n",
       "      <td>other</td>\n",
       "      <td>POLYGON ((-119.40167 37.02400, -119.40167 37.0...</td>\n",
       "    </tr>\n",
       "    <tr>\n",
       "      <th>3</th>\n",
       "      <td>000ba8d9-d6d5-48da-84a2-1fa54951fae1</td>\n",
       "      <td>sierras</td>\n",
       "      <td>POLYGON ((-119.32082 37.43171, -119.32082 37.4...</td>\n",
       "    </tr>\n",
       "    <tr>\n",
       "      <th>4</th>\n",
       "      <td>00146204-d4e9-4cd8-8f86-d1ef133c5b6d</td>\n",
       "      <td>sierras</td>\n",
       "      <td>POLYGON ((-118.52132 36.65735, -118.52132 36.6...</td>\n",
       "    </tr>\n",
       "    <tr>\n",
       "      <th>...</th>\n",
       "      <td>...</td>\n",
       "      <td>...</td>\n",
       "      <td>...</td>\n",
       "    </tr>\n",
       "    <tr>\n",
       "      <th>18125</th>\n",
       "      <td>ffdfb5a4-91a0-41a9-a4d5-501b04ef6326</td>\n",
       "      <td>sierras</td>\n",
       "      <td>POLYGON ((-118.62014 37.11718, -118.62014 37.1...</td>\n",
       "    </tr>\n",
       "    <tr>\n",
       "      <th>18126</th>\n",
       "      <td>ffe43514-2c92-43b6-bd84-d183806aca65</td>\n",
       "      <td>other</td>\n",
       "      <td>POLYGON ((-123.49799 47.90132, -123.49799 47.9...</td>\n",
       "    </tr>\n",
       "    <tr>\n",
       "      <th>18127</th>\n",
       "      <td>ffeabc13-7c6f-4b63-b043-19c8f15e0345</td>\n",
       "      <td>sierras</td>\n",
       "      <td>POLYGON ((-119.64422 37.87976, -119.64422 37.8...</td>\n",
       "    </tr>\n",
       "    <tr>\n",
       "      <th>18128</th>\n",
       "      <td>fff95195-ccc9-40b7-b302-a0d8570c86bc</td>\n",
       "      <td>other</td>\n",
       "      <td>POLYGON ((-123.37223 47.73242, -123.37223 47.7...</td>\n",
       "    </tr>\n",
       "    <tr>\n",
       "      <th>18129</th>\n",
       "      <td>fffb4d40-5947-4922-9f05-5d8b5a243d84</td>\n",
       "      <td>other</td>\n",
       "      <td>POLYGON ((-123.79443 47.52052, -123.79443 47.5...</td>\n",
       "    </tr>\n",
       "  </tbody>\n",
       "</table>\n",
       "<p>18130 rows × 3 columns</p>\n",
       "</div>"
      ],
      "text/plain": [
       "                                    cell_id           region  \\\n",
       "0      0003f387-71c4-48f6-b2b0-d853bd4f0aba          sierras   \n",
       "1      000617d8-8c14-43e2-b708-7e3a69fe3cc3  central rockies   \n",
       "2      000863e7-21e6-477d-b799-f5675c348627            other   \n",
       "3      000ba8d9-d6d5-48da-84a2-1fa54951fae1          sierras   \n",
       "4      00146204-d4e9-4cd8-8f86-d1ef133c5b6d          sierras   \n",
       "...                                     ...              ...   \n",
       "18125  ffdfb5a4-91a0-41a9-a4d5-501b04ef6326          sierras   \n",
       "18126  ffe43514-2c92-43b6-bd84-d183806aca65            other   \n",
       "18127  ffeabc13-7c6f-4b63-b043-19c8f15e0345          sierras   \n",
       "18128  fff95195-ccc9-40b7-b302-a0d8570c86bc            other   \n",
       "18129  fffb4d40-5947-4922-9f05-5d8b5a243d84            other   \n",
       "\n",
       "                                                geometry  \n",
       "0      POLYGON ((-118.71895 37.07419, -118.71895 37.0...  \n",
       "1      POLYGON ((-107.07679 37.78042, -107.07679 37.7...  \n",
       "2      POLYGON ((-119.40167 37.02400, -119.40167 37.0...  \n",
       "3      POLYGON ((-119.32082 37.43171, -119.32082 37.4...  \n",
       "4      POLYGON ((-118.52132 36.65735, -118.52132 36.6...  \n",
       "...                                                  ...  \n",
       "18125  POLYGON ((-118.62014 37.11718, -118.62014 37.1...  \n",
       "18126  POLYGON ((-123.49799 47.90132, -123.49799 47.9...  \n",
       "18127  POLYGON ((-119.64422 37.87976, -119.64422 37.8...  \n",
       "18128  POLYGON ((-123.37223 47.73242, -123.37223 47.7...  \n",
       "18129  POLYGON ((-123.79443 47.52052, -123.79443 47.5...  \n",
       "\n",
       "[18130 rows x 3 columns]"
      ]
     },
     "execution_count": 149,
     "metadata": {},
     "output_type": "execute_result"
    },
    {
     "data": {
      "image/png": "[encoded data removed]",
      "text/plain": [
       "<Figure size 432x288 with 1 Axes>"
      ]
     },
     "metadata": {
      "needs_background": "light"
     },
     "output_type": "display_data"
    }
   ],
   "source": [
    "df_grid = gpd.read_file('/Users/carina/Desktop/code/SEUP/grid_cells.geojson')\n",
    "df_grid['geometry']\n",
    "df_grid.plot()\n",
    "df_grid"
   ]
  },
  {
   "cell_type": "code",
   "execution_count": 13,
   "metadata": {
    "scrolled": true
   },
   "outputs": [],
   "source": [
    "m = folium.Map(location=[40.70, -73.94], zoom_start=10, tiles='CartoDB positron')\n",
    "for _, r in df_grid.iterrows():\n",
    "    # Without simplifying the representation of each borough,\n",
    "    # the map might not be displayed\n",
    "    sim_geo = gpd.GeoSeries(r['geometry']).simplify(tolerance=0.001)\n",
    "    geo_j = sim_geo.to_json()\n",
    "    geo_j = folium.GeoJson(data=geo_j,\n",
    "                           style_function=lambda x: {'fillColor': 'orange'})\n",
    "   # folium.Popup(r['BoroName']).add_to(geo_j)\n",
    "    geo_j.add_to(m)\n",
    "#m"
   ]
  },
  {
   "cell_type": "code",
   "execution_count": 14,
   "metadata": {},
   "outputs": [],
   "source": [
    "n = folium.Map(\n",
    "    location = [40.715, -108.565],\n",
    "    zoom_start = 12,\n",
    "    tiles = 'Stamen Terrain'\n",
    ")\n",
    "\n",
    "#folium.GeoJson(osse_poly).add_to(m)\n",
    "#folium.LatLngPopup().add_to(n)\n",
    "tooltip = 'Click me!'\n",
    "#n.choropleth(geo_path=\"/Users/carina/Desktop/code/SEUP/grid_cells.geojson\")\n",
    "#n.choropleth(geo_path='/Users/carina/Desktop/code/SEUP/grid_cells.geojson', topojson=\"objects.nyct2010\")\n",
    "\n",
    "df_snotel_ml.apply(lambda row:folium.CircleMarker(location=[row[\"latitude\"], \n",
    "                                                  row[\"longitude\"]]).add_to(n),\n",
    "     axis=1)\n",
    "\n",
    "from folium.features import DivIcon\n",
    "#n"
   ]
  },
  {
   "cell_type": "code",
   "execution_count": 150,
   "metadata": {},
   "outputs": [],
   "source": [
    "#extract UA data at points\n",
    "path_ua = '/Users/carina/Desktop/data/seup/UA_SWE/'\n",
    "files_ua = path_ua + '4km_SWE_Depth*.nc'\n",
    "ds_ua = xr.open_mfdataset(files_ua)"
   ]
  },
  {
   "cell_type": "code",
   "execution_count": 192,
   "metadata": {},
   "outputs": [
    {
     "ename": "NameError",
     "evalue": "name '__file__' is not defined",
     "output_type": "error",
     "traceback": [
      "\u001b[0;31m---------------------------------------------------------------------------\u001b[0m",
      "\u001b[0;31mNameError\u001b[0m                                 Traceback (most recent call last)",
      "\u001b[0;32m<ipython-input-192-a57a3feff116>\u001b[0m in \u001b[0;36m<module>\u001b[0;34m\u001b[0m\n\u001b[1;32m      1\u001b[0m \u001b[0;32mimport\u001b[0m \u001b[0mos\u001b[0m\u001b[0;34m\u001b[0m\u001b[0;34m\u001b[0m\u001b[0m\n\u001b[0;32m----> 2\u001b[0;31m \u001b[0mROOT_DIR\u001b[0m \u001b[0;34m=\u001b[0m \u001b[0mos\u001b[0m\u001b[0;34m.\u001b[0m\u001b[0mpath\u001b[0m\u001b[0;34m.\u001b[0m\u001b[0mrealpath\u001b[0m\u001b[0;34m(\u001b[0m\u001b[0mos\u001b[0m\u001b[0;34m.\u001b[0m\u001b[0mpath\u001b[0m\u001b[0;34m.\u001b[0m\u001b[0mjoin\u001b[0m\u001b[0;34m(\u001b[0m\u001b[0mos\u001b[0m\u001b[0;34m.\u001b[0m\u001b[0mpath\u001b[0m\u001b[0;34m.\u001b[0m\u001b[0mdirname\u001b[0m\u001b[0;34m(\u001b[0m\u001b[0m__file__\u001b[0m\u001b[0;34m)\u001b[0m\u001b[0;34m,\u001b[0m \u001b[0;34m'..'\u001b[0m\u001b[0;34m)\u001b[0m\u001b[0;34m)\u001b[0m\u001b[0;34m\u001b[0m\u001b[0;34m\u001b[0m\u001b[0m\n\u001b[0m",
      "\u001b[0;31mNameError\u001b[0m: name '__file__' is not defined"
     ]
    }
   ],
   "source": [
    "#import os\n",
    "#ROOT_DIR = os.path.realpath(os.path.join(os.path.dirname(__file__), '..'))"
   ]
  },
  {
   "cell_type": "code",
   "execution_count": null,
   "metadata": {},
   "outputs": [],
   "source": []
  },
  {
   "cell_type": "code",
   "execution_count": 151,
   "metadata": {},
   "outputs": [],
   "source": [
    "#extract SNODAS data at points \n",
    "path_snodas = '/Users/carina/Desktop/data/seup/SNODAS_SWE_year/'\n",
    "ds_SNODAS = xr.open_mfdataset(path_snodas +'*.nc')\n"
   ]
  },
  {
   "cell_type": "code",
   "execution_count": 179,
   "metadata": {},
   "outputs": [],
   "source": [
    "centroids = np.vstack(df_grid.geometry.centroid).T\n",
    "lon_grid = centroids[0:1].ravel().tolist()\n",
    "lat_grid = centroids[1:2].ravel().tolist()\n"
   ]
  },
  {
   "cell_type": "code",
   "execution_count": 180,
   "metadata": {},
   "outputs": [],
   "source": [
    "grid_labels = df_grid['cell_id'].to_numpy()"
   ]
  },
  {
   "cell_type": "code",
   "execution_count": null,
   "metadata": {},
   "outputs": [],
   "source": []
  },
  {
   "cell_type": "code",
   "execution_count": 181,
   "metadata": {},
   "outputs": [],
   "source": [
    "grid_labels = grid_labels.ravel().tolist()"
   ]
  },
  {
   "cell_type": "code",
   "execution_count": 185,
   "metadata": {},
   "outputs": [],
   "source": [
    "dataUA_grid  = ds_ua.sel(lon = lon_grid, lat = lat_grid, method='nearest')\n",
    "dataSNODAS_grid = ds_SNODAS.sel(lon = lon_grid, lat = lat_grid, method='nearest')\n",
    "#ts_dataframe = data[vars].to_dataframe()"
   ]
  },
  {
   "cell_type": "code",
   "execution_count": 184,
   "metadata": {},
   "outputs": [
    {
     "data": {
      "text/plain": [
       "<xarray.Dataset>\n",
       "Dimensions:   (lat: 18130, lon: 18130, time: 1826, time_str_len: 11)\n",
       "Coordinates:\n",
       "  * lat       (lat) float32 37.083332 37.791668 37.041668 37.416668 ...\n",
       "  * lon       (lon) float32 -118.708336 -107.083336 -119.416664 -119.333336 ...\n",
       "  * time      (time) datetime64[ns] 2012-10-01 2012-10-02 2012-10-03 ...\n",
       "Dimensions without coordinates: time_str_len\n",
       "Data variables:\n",
       "    crs       (time) |S1 b'' b'' b'' b'' b'' b'' b'' b'' b'' b'' b'' b'' b'' ...\n",
       "    time_str  (time_str_len, time) |S1 dask.array<shape=(11, 1826), chunksize=(11, 365)>\n",
       "    SWE       (time, lat, lon) float32 dask.array<shape=(1826, 18130, 18130), chunksize=(365, 18130, 18130)>\n",
       "    DEPTH     (time, lat, lon) float32 dask.array<shape=(1826, 18130, 18130), chunksize=(365, 18130, 18130)>"
      ]
     },
     "execution_count": 184,
     "metadata": {},
     "output_type": "execute_result"
    }
   ],
   "source": [
    "dataUA_grid"
   ]
  },
  {
   "cell_type": "code",
   "execution_count": 186,
   "metadata": {},
   "outputs": [],
   "source": [
    "dataUA_grid_label = dataUA_grid.assign_coords(label = grid_labels) \n",
    "dataSNODAS_grid_label = dataSNODAS_grid.assign_coords(label = grid_labels) "
   ]
  },
  {
   "cell_type": "code",
   "execution_count": 21,
   "metadata": {},
   "outputs": [],
   "source": [
    "#one_point = dataUA_grid_label.sel(lat = 37.083332, lon = -118.708336,  method='nearest')\n",
    "#one_point.SWE.plot()\n",
    "#one_point"
   ]
  },
  {
   "cell_type": "code",
   "execution_count": 157,
   "metadata": {},
   "outputs": [
    {
     "data": {
      "image/png": "[encoded data removed]",
      "text/plain": [
       "<Figure size 432x288 with 2 Axes>"
      ]
     },
     "metadata": {
      "needs_background": "light"
     },
     "output_type": "display_data"
    }
   ],
   "source": [
    "SWE_UA = ds_ua.SWE.sel(time = '2016-02-02')\n",
    "im = SWE_UA.plot()"
   ]
  },
  {
   "cell_type": "code",
   "execution_count": 27,
   "metadata": {},
   "outputs": [],
   "source": [
    "#df_ua = pd.DataFrame(columns = ['date', 'SWE_UA', 'snowdepth_UA' 'cell_id', 'latitude', 'longitude'])"
   ]
  },
  {
   "cell_type": "code",
   "execution_count": null,
   "metadata": {},
   "outputs": [],
   "source": []
  },
  {
   "cell_type": "code",
   "execution_count": 91,
   "metadata": {},
   "outputs": [
    {
     "data": {
      "text/plain": [
       "<xarray.Dataset>\n",
       "Dimensions:   (lat: 18130, lon: 18130, time: 1826, time_str_len: 11)\n",
       "Coordinates:\n",
       "  * lat       (lat) float32 37.083332 37.791668 37.041668 37.416668 ...\n",
       "  * lon       (lon) float32 -118.708336 -107.083336 -119.416664 -119.333336 ...\n",
       "  * time      (time) datetime64[ns] 2012-10-01 2012-10-02 2012-10-03 ...\n",
       "Dimensions without coordinates: time_str_len\n",
       "Data variables:\n",
       "    crs       (time) |S1 b'' b'' b'' b'' b'' b'' b'' b'' b'' b'' b'' b'' b'' ...\n",
       "    time_str  (time_str_len, time) |S1 dask.array<shape=(11, 1826), chunksize=(11, 365)>\n",
       "    SWE       (time, lat, lon) float32 dask.array<shape=(1826, 18130, 18130), chunksize=(365, 18130, 18130)>\n",
       "    DEPTH     (time, lat, lon) float32 dask.array<shape=(1826, 18130, 18130), chunksize=(365, 18130, 18130)>"
      ]
     },
     "execution_count": 91,
     "metadata": {},
     "output_type": "execute_result"
    }
   ],
   "source": []
  },
  {
   "cell_type": "code",
   "execution_count": null,
   "metadata": {},
   "outputs": [],
   "source": []
  },
  {
   "cell_type": "code",
   "execution_count": 31,
   "metadata": {},
   "outputs": [],
   "source": [
    "#import json\n",
    "#import geojson\n",
    "#gridcells = geojson.load(open('/Users/carina/Desktop/code/SEUP/grid_cells.geojson'))"
   ]
  },
  {
   "cell_type": "code",
   "execution_count": 33,
   "metadata": {},
   "outputs": [],
   "source": []
  },
  {
   "cell_type": "code",
   "execution_count": 167,
   "metadata": {},
   "outputs": [],
   "source": [
    "\n",
    "#file_NAME_UA = './SWE_UA_GRID.nc'\n",
    "#print ('saving to ', file_NAME_UA)\n",
    "\n",
    "#dataUA_grid.load().to_netcdf(path = file_NAME_UA)\n",
    "#print ('finished saving')\n"
   ]
  },
  {
   "cell_type": "code",
   "execution_count": null,
   "metadata": {},
   "outputs": [],
   "source": [
    "#ncdat.load().to_netcdf('test_faster.nc')"
   ]
  },
  {
   "cell_type": "code",
   "execution_count": null,
   "metadata": {},
   "outputs": [],
   "source": [
    "\n",
    "#file_NAME_UA = './SWE_UA_GRID.nc'\n",
    "#print ('saving to ', file_NAME_UA)\n",
    "\n",
    "#dataUA_grid.to_netcdf(path = file_NAME_UA)\n",
    "#print ('finished saving')"
   ]
  },
  {
   "cell_type": "code",
   "execution_count": 5,
   "metadata": {},
   "outputs": [],
   "source": [
    "#test_ua = xr.open_dataset('/Users/carina/Desktop/code/SEUP/SWE_UA_GRID_.nc')"
   ]
  },
  {
   "cell_type": "code",
   "execution_count": null,
   "metadata": {},
   "outputs": [],
   "source": []
  },
  {
   "cell_type": "code",
   "execution_count": 23,
   "metadata": {},
   "outputs": [],
   "source": [
    "#dataUA_grid_point  = dataUA_grid.sel(lon = -118.708336, lat = 37.083332)\n",
    "#dataUA_grid_point['SWE'].plot()\n",
    "#test_ua['SWE'][:,1000,1000].plot()"
   ]
  },
  {
   "cell_type": "code",
   "execution_count": 83,
   "metadata": {},
   "outputs": [
    {
     "data": {
      "text/plain": [
       "[<matplotlib.lines.Line2D at 0x1c242a6f60>]"
      ]
     },
     "execution_count": 83,
     "metadata": {},
     "output_type": "execute_result"
    },
    {
     "data": {
      "image/png": "[encoded data removed]",
      "text/plain": [
       "<Figure size 432x288 with 1 Axes>"
      ]
     },
     "metadata": {
      "needs_background": "light"
     },
     "output_type": "display_data"
    }
   ],
   "source": [
    "dataUA_point  = ds_ua.sel(lon = -118.708336, lat = 37.083332, method='nearest')\n",
    "dataUA_point['SWE'].plot()\n",
    "#test_ua['SWE'][:,1000,1000].plot()\n"
   ]
  },
  {
   "cell_type": "code",
   "execution_count": 173,
   "metadata": {},
   "outputs": [
    {
     "data": {
      "text/plain": [
       "<xarray.Dataset>\n",
       "Dimensions:   (time: 1826, time_str_len: 11)\n",
       "Coordinates:\n",
       "    lat       float32 36.666668\n",
       "    lon       float32 -118.541664\n",
       "  * time      (time) datetime64[ns] 2012-10-01 2012-10-02 2012-10-03 ...\n",
       "Dimensions without coordinates: time_str_len\n",
       "Data variables:\n",
       "    crs       (time) |S1 b'' b'' b'' b'' b'' b'' b'' b'' b'' b'' b'' b'' b'' ...\n",
       "    time_str  (time_str_len, time) |S1 dask.array<shape=(11, 1826), chunksize=(11, 365)>\n",
       "    SWE       (time) float32 dask.array<shape=(1826,), chunksize=(365,)>\n",
       "    DEPTH     (time) float32 dask.array<shape=(1826,), chunksize=(365,)>"
      ]
     },
     "execution_count": 173,
     "metadata": {},
     "output_type": "execute_result"
    }
   ],
   "source": [
    "dataUA_point"
   ]
  },
  {
   "cell_type": "code",
   "execution_count": 79,
   "metadata": {},
   "outputs": [
    {
     "data": {
      "text/html": [
       "<div>\n",
       "<style scoped>\n",
       "    .dataframe tbody tr th:only-of-type {\n",
       "        vertical-align: middle;\n",
       "    }\n",
       "\n",
       "    .dataframe tbody tr th {\n",
       "        vertical-align: top;\n",
       "    }\n",
       "\n",
       "    .dataframe thead th {\n",
       "        text-align: right;\n",
       "    }\n",
       "</style>\n",
       "<table border=\"1\" class=\"dataframe\">\n",
       "  <thead>\n",
       "    <tr style=\"text-align: right;\">\n",
       "      <th></th>\n",
       "      <th></th>\n",
       "      <th>lat</th>\n",
       "      <th>lon</th>\n",
       "      <th>crs</th>\n",
       "      <th>time_str</th>\n",
       "      <th>SWE</th>\n",
       "      <th>DEPTH</th>\n",
       "    </tr>\n",
       "    <tr>\n",
       "      <th>time</th>\n",
       "      <th>time_str_len</th>\n",
       "      <th></th>\n",
       "      <th></th>\n",
       "      <th></th>\n",
       "      <th></th>\n",
       "      <th></th>\n",
       "      <th></th>\n",
       "    </tr>\n",
       "  </thead>\n",
       "  <tbody>\n",
       "    <tr>\n",
       "      <th rowspan=\"5\" valign=\"top\">2012-10-01</th>\n",
       "      <th>0</th>\n",
       "      <td>37.083332</td>\n",
       "      <td>-118.708336</td>\n",
       "      <td>b''</td>\n",
       "      <td>b'0'</td>\n",
       "      <td>0.0</td>\n",
       "      <td>0.0</td>\n",
       "    </tr>\n",
       "    <tr>\n",
       "      <th>1</th>\n",
       "      <td>37.083332</td>\n",
       "      <td>-118.708336</td>\n",
       "      <td>b''</td>\n",
       "      <td>b'1'</td>\n",
       "      <td>0.0</td>\n",
       "      <td>0.0</td>\n",
       "    </tr>\n",
       "    <tr>\n",
       "      <th>2</th>\n",
       "      <td>37.083332</td>\n",
       "      <td>-118.708336</td>\n",
       "      <td>b''</td>\n",
       "      <td>b'-'</td>\n",
       "      <td>0.0</td>\n",
       "      <td>0.0</td>\n",
       "    </tr>\n",
       "    <tr>\n",
       "      <th>3</th>\n",
       "      <td>37.083332</td>\n",
       "      <td>-118.708336</td>\n",
       "      <td>b''</td>\n",
       "      <td>b'O'</td>\n",
       "      <td>0.0</td>\n",
       "      <td>0.0</td>\n",
       "    </tr>\n",
       "    <tr>\n",
       "      <th>4</th>\n",
       "      <td>37.083332</td>\n",
       "      <td>-118.708336</td>\n",
       "      <td>b''</td>\n",
       "      <td>b'c'</td>\n",
       "      <td>0.0</td>\n",
       "      <td>0.0</td>\n",
       "    </tr>\n",
       "    <tr>\n",
       "      <th>...</th>\n",
       "      <th>...</th>\n",
       "      <td>...</td>\n",
       "      <td>...</td>\n",
       "      <td>...</td>\n",
       "      <td>...</td>\n",
       "      <td>...</td>\n",
       "      <td>...</td>\n",
       "    </tr>\n",
       "    <tr>\n",
       "      <th rowspan=\"5\" valign=\"top\">2017-09-30</th>\n",
       "      <th>6</th>\n",
       "      <td>37.083332</td>\n",
       "      <td>-118.708336</td>\n",
       "      <td>b''</td>\n",
       "      <td>b'-'</td>\n",
       "      <td>1.0</td>\n",
       "      <td>5.0</td>\n",
       "    </tr>\n",
       "    <tr>\n",
       "      <th>7</th>\n",
       "      <td>37.083332</td>\n",
       "      <td>-118.708336</td>\n",
       "      <td>b''</td>\n",
       "      <td>b'2'</td>\n",
       "      <td>1.0</td>\n",
       "      <td>5.0</td>\n",
       "    </tr>\n",
       "    <tr>\n",
       "      <th>8</th>\n",
       "      <td>37.083332</td>\n",
       "      <td>-118.708336</td>\n",
       "      <td>b''</td>\n",
       "      <td>b'0'</td>\n",
       "      <td>1.0</td>\n",
       "      <td>5.0</td>\n",
       "    </tr>\n",
       "    <tr>\n",
       "      <th>9</th>\n",
       "      <td>37.083332</td>\n",
       "      <td>-118.708336</td>\n",
       "      <td>b''</td>\n",
       "      <td>b'1'</td>\n",
       "      <td>1.0</td>\n",
       "      <td>5.0</td>\n",
       "    </tr>\n",
       "    <tr>\n",
       "      <th>10</th>\n",
       "      <td>37.083332</td>\n",
       "      <td>-118.708336</td>\n",
       "      <td>b''</td>\n",
       "      <td>b'7'</td>\n",
       "      <td>1.0</td>\n",
       "      <td>5.0</td>\n",
       "    </tr>\n",
       "  </tbody>\n",
       "</table>\n",
       "<p>20086 rows × 6 columns</p>\n",
       "</div>"
      ],
      "text/plain": [
       "                               lat         lon  crs time_str  SWE  DEPTH\n",
       "time       time_str_len                                                 \n",
       "2012-10-01 0             37.083332 -118.708336  b''     b'0'  0.0    0.0\n",
       "           1             37.083332 -118.708336  b''     b'1'  0.0    0.0\n",
       "           2             37.083332 -118.708336  b''     b'-'  0.0    0.0\n",
       "           3             37.083332 -118.708336  b''     b'O'  0.0    0.0\n",
       "           4             37.083332 -118.708336  b''     b'c'  0.0    0.0\n",
       "...                            ...         ...  ...      ...  ...    ...\n",
       "2017-09-30 6             37.083332 -118.708336  b''     b'-'  1.0    5.0\n",
       "           7             37.083332 -118.708336  b''     b'2'  1.0    5.0\n",
       "           8             37.083332 -118.708336  b''     b'0'  1.0    5.0\n",
       "           9             37.083332 -118.708336  b''     b'1'  1.0    5.0\n",
       "           10            37.083332 -118.708336  b''     b'7'  1.0    5.0\n",
       "\n",
       "[20086 rows x 6 columns]"
      ]
     },
     "execution_count": 79,
     "metadata": {},
     "output_type": "execute_result"
    }
   ],
   "source": [
    "#t = dataUA_point.to_dataframe()\n",
    "t = ds_ua.sel(lon = -118.708336, lat = 37.083332, method='nearest').to_dataframe()\n",
    "t"
   ]
  },
  {
   "cell_type": "code",
   "execution_count": 168,
   "metadata": {},
   "outputs": [],
   "source": [
    "#t.drop([ 'crs', 'time_str'], axis=1)\n",
    "#t.head()"
   ]
  },
  {
   "cell_type": "code",
   "execution_count": 169,
   "metadata": {},
   "outputs": [],
   "source": [
    "#t.head()"
   ]
  },
  {
   "cell_type": "code",
   "execution_count": 158,
   "metadata": {},
   "outputs": [],
   "source": [
    "#df_ua = pd.DataFrame(columns = ['date', 'SWE_UA', 'snowdepth_UA' 'cell_id', 'latitude', 'longitude'])\n",
    "df = pd.DataFrame(columns = ['date',  'SWE_UA', 'latitude', 'longitude'])\n",
    "#df_ = pd.DataFrame(columns = ['latitude', 'longitude'])"
   ]
  },
  {
   "cell_type": "code",
   "execution_count": 159,
   "metadata": {},
   "outputs": [
    {
     "data": {
      "text/plain": [
       "[-118.7234447492404, -107.08127866705138]"
      ]
     },
     "execution_count": 159,
     "metadata": {},
     "output_type": "execute_result"
    }
   ],
   "source": [
    "lon_grid_ = lon_grid[0:2]\n",
    "lon_grid_\n",
    "    "
   ]
  },
  {
   "cell_type": "code",
   "execution_count": 188,
   "metadata": {},
   "outputs": [
    {
     "name": "stdout",
     "output_type": "stream",
     "text": [
      "           date  SWE_UA  Depth_UA   latitude   longitude  \\\n",
      "0    2012-10-01     0.0       0.0  37.077776 -118.723445   \n",
      "1    2012-10-02     0.0       0.0  37.077776 -118.723445   \n",
      "2    2012-10-03     0.0       0.0  37.077776 -118.723445   \n",
      "3    2012-10-04     0.0       0.0  37.077776 -118.723445   \n",
      "4    2012-10-05     0.0       0.0  37.077776 -118.723445   \n",
      "...         ...     ...       ...        ...         ...   \n",
      "1821 2017-09-26    22.0     133.0  37.077776 -118.723445   \n",
      "1822 2017-09-27    20.0     105.0  37.077776 -118.723445   \n",
      "1823 2017-09-28    15.0      72.0  37.077776 -118.723445   \n",
      "1824 2017-09-29     8.0      35.0  37.077776 -118.723445   \n",
      "1825 2017-09-30     1.0       5.0  37.077776 -118.723445   \n",
      "\n",
      "                                     label  \n",
      "0     0003f387-71c4-48f6-b2b0-d853bd4f0aba  \n",
      "1     0003f387-71c4-48f6-b2b0-d853bd4f0aba  \n",
      "2     0003f387-71c4-48f6-b2b0-d853bd4f0aba  \n",
      "3     0003f387-71c4-48f6-b2b0-d853bd4f0aba  \n",
      "4     0003f387-71c4-48f6-b2b0-d853bd4f0aba  \n",
      "...                                    ...  \n",
      "1821  0003f387-71c4-48f6-b2b0-d853bd4f0aba  \n",
      "1822  0003f387-71c4-48f6-b2b0-d853bd4f0aba  \n",
      "1823  0003f387-71c4-48f6-b2b0-d853bd4f0aba  \n",
      "1824  0003f387-71c4-48f6-b2b0-d853bd4f0aba  \n",
      "1825  0003f387-71c4-48f6-b2b0-d853bd4f0aba  \n",
      "\n",
      "[1826 rows x 6 columns]\n",
      "           date  SWE_UA  Depth_UA   latitude   longitude  \\\n",
      "0    2012-10-01     0.0       0.0  37.783973 -107.081279   \n",
      "1    2012-10-02     0.0       0.0  37.783973 -107.081279   \n",
      "2    2012-10-03     0.0       0.0  37.783973 -107.081279   \n",
      "3    2012-10-04     0.0       0.0  37.783973 -107.081279   \n",
      "4    2012-10-05     0.0       0.0  37.783973 -107.081279   \n",
      "...         ...     ...       ...        ...         ...   \n",
      "1821 2017-09-26     0.0       0.0  37.783973 -107.081279   \n",
      "1822 2017-09-27     0.0       0.0  37.783973 -107.081279   \n",
      "1823 2017-09-28     0.0       0.0  37.783973 -107.081279   \n",
      "1824 2017-09-29     0.0       0.0  37.783973 -107.081279   \n",
      "1825 2017-09-30     0.0       0.0  37.783973 -107.081279   \n",
      "\n",
      "                                     label  \n",
      "0     000617d8-8c14-43e2-b708-7e3a69fe3cc3  \n",
      "1     000617d8-8c14-43e2-b708-7e3a69fe3cc3  \n",
      "2     000617d8-8c14-43e2-b708-7e3a69fe3cc3  \n",
      "3     000617d8-8c14-43e2-b708-7e3a69fe3cc3  \n",
      "4     000617d8-8c14-43e2-b708-7e3a69fe3cc3  \n",
      "...                                    ...  \n",
      "1821  000617d8-8c14-43e2-b708-7e3a69fe3cc3  \n",
      "1822  000617d8-8c14-43e2-b708-7e3a69fe3cc3  \n",
      "1823  000617d8-8c14-43e2-b708-7e3a69fe3cc3  \n",
      "1824  000617d8-8c14-43e2-b708-7e3a69fe3cc3  \n",
      "1825  000617d8-8c14-43e2-b708-7e3a69fe3cc3  \n",
      "\n",
      "[1826 rows x 6 columns]\n",
      "           date  SWE_UA  Depth_UA   latitude   longitude  \\\n",
      "0    2012-10-01     0.0       0.0  37.027591 -119.406164   \n",
      "1    2012-10-02     0.0       0.0  37.027591 -119.406164   \n",
      "2    2012-10-03     0.0       0.0  37.027591 -119.406164   \n",
      "3    2012-10-04     0.0       0.0  37.027591 -119.406164   \n",
      "4    2012-10-05     0.0       0.0  37.027591 -119.406164   \n",
      "...         ...     ...       ...        ...         ...   \n",
      "1821 2017-09-26     0.0       0.0  37.027591 -119.406164   \n",
      "1822 2017-09-27     0.0       0.0  37.027591 -119.406164   \n",
      "1823 2017-09-28     0.0       0.0  37.027591 -119.406164   \n",
      "1824 2017-09-29     0.0       0.0  37.027591 -119.406164   \n",
      "1825 2017-09-30     0.0       0.0  37.027591 -119.406164   \n",
      "\n",
      "                                     label  \n",
      "0     000863e7-21e6-477d-b799-f5675c348627  \n",
      "1     000863e7-21e6-477d-b799-f5675c348627  \n",
      "2     000863e7-21e6-477d-b799-f5675c348627  \n",
      "3     000863e7-21e6-477d-b799-f5675c348627  \n",
      "4     000863e7-21e6-477d-b799-f5675c348627  \n",
      "...                                    ...  \n",
      "1821  000863e7-21e6-477d-b799-f5675c348627  \n",
      "1822  000863e7-21e6-477d-b799-f5675c348627  \n",
      "1823  000863e7-21e6-477d-b799-f5675c348627  \n",
      "1824  000863e7-21e6-477d-b799-f5675c348627  \n",
      "1825  000863e7-21e6-477d-b799-f5675c348627  \n",
      "\n",
      "[1826 rows x 6 columns]\n",
      "           date  SWE_UA  Depth_UA   latitude   longitude  \\\n",
      "0    2012-10-01     0.0       0.0  37.435274 -119.325316   \n",
      "1    2012-10-02     0.0       0.0  37.435274 -119.325316   \n",
      "2    2012-10-03     0.0       0.0  37.435274 -119.325316   \n",
      "3    2012-10-04     0.0       0.0  37.435274 -119.325316   \n",
      "4    2012-10-05     0.0       0.0  37.435274 -119.325316   \n",
      "...         ...     ...       ...        ...         ...   \n",
      "1821 2017-09-26     0.0       0.0  37.435274 -119.325316   \n",
      "1822 2017-09-27     0.0       0.0  37.435274 -119.325316   \n",
      "1823 2017-09-28     0.0       0.0  37.435274 -119.325316   \n",
      "1824 2017-09-29     0.0       0.0  37.435274 -119.325316   \n",
      "1825 2017-09-30     0.0       0.0  37.435274 -119.325316   \n",
      "\n",
      "                                     label  \n",
      "0     000ba8d9-d6d5-48da-84a2-1fa54951fae1  \n",
      "1     000ba8d9-d6d5-48da-84a2-1fa54951fae1  \n",
      "2     000ba8d9-d6d5-48da-84a2-1fa54951fae1  \n",
      "3     000ba8d9-d6d5-48da-84a2-1fa54951fae1  \n",
      "4     000ba8d9-d6d5-48da-84a2-1fa54951fae1  \n",
      "...                                    ...  \n",
      "1821  000ba8d9-d6d5-48da-84a2-1fa54951fae1  \n",
      "1822  000ba8d9-d6d5-48da-84a2-1fa54951fae1  \n",
      "1823  000ba8d9-d6d5-48da-84a2-1fa54951fae1  \n",
      "1824  000ba8d9-d6d5-48da-84a2-1fa54951fae1  \n",
      "1825  000ba8d9-d6d5-48da-84a2-1fa54951fae1  \n",
      "\n",
      "[1826 rows x 6 columns]\n",
      "           date  SWE_UA  Depth_UA   latitude   longitude  \\\n",
      "0    2012-10-01     0.0       0.0  36.660957 -118.525815   \n",
      "1    2012-10-02     0.0       0.0  36.660957 -118.525815   \n",
      "2    2012-10-03     0.0       0.0  36.660957 -118.525815   \n",
      "3    2012-10-04     0.0       0.0  36.660957 -118.525815   \n",
      "4    2012-10-05     0.0       0.0  36.660957 -118.525815   \n",
      "...         ...     ...       ...        ...         ...   \n",
      "1821 2017-09-26     0.0       0.0  36.660957 -118.525815   \n",
      "1822 2017-09-27     0.0       0.0  36.660957 -118.525815   \n",
      "1823 2017-09-28     0.0       0.0  36.660957 -118.525815   \n",
      "1824 2017-09-29     0.0       0.0  36.660957 -118.525815   \n",
      "1825 2017-09-30     0.0       0.0  36.660957 -118.525815   \n",
      "\n",
      "                                     label  \n",
      "0     00146204-d4e9-4cd8-8f86-d1ef133c5b6d  \n",
      "1     00146204-d4e9-4cd8-8f86-d1ef133c5b6d  \n",
      "2     00146204-d4e9-4cd8-8f86-d1ef133c5b6d  \n",
      "3     00146204-d4e9-4cd8-8f86-d1ef133c5b6d  \n",
      "4     00146204-d4e9-4cd8-8f86-d1ef133c5b6d  \n",
      "...                                    ...  \n",
      "1821  00146204-d4e9-4cd8-8f86-d1ef133c5b6d  \n",
      "1822  00146204-d4e9-4cd8-8f86-d1ef133c5b6d  \n",
      "1823  00146204-d4e9-4cd8-8f86-d1ef133c5b6d  \n",
      "1824  00146204-d4e9-4cd8-8f86-d1ef133c5b6d  \n",
      "1825  00146204-d4e9-4cd8-8f86-d1ef133c5b6d  \n",
      "\n",
      "[1826 rows x 6 columns]\n"
     ]
    }
   ],
   "source": [
    "df_list = list()\n",
    "\n",
    "#def sample_at_points(lat_grid, lon_grid):\n",
    "for (i, j, k) in zip(lon_grid[0:5], lat_grid[0:5], grid_labels[0:5]):\n",
    "    df = pd.DataFrame(columns = ['date',  'SWE_UA', 'Depth_UA','latitude', 'longitude','label'])\n",
    "    dataUA_point  = ds_ua.sel(lon = i , lat = j, method='nearest')                             \n",
    "    df['date'] = dataUA_point.time.values\n",
    "    #df['cell_id'] = current_cell_id\n",
    "    df['longitude'] = i #dataUA_point.lon_grid.values\n",
    "    df['latitude'] = j #dataUA_point.lat_grid.values\n",
    "    df['SWE_UA'] = dataUA_point.SWE.values\n",
    "    df['Depth_UA'] = dataUA_point.DEPTH.values\n",
    "    df['label'] = k\n",
    "    print(df)\n",
    "    df_list.append(df)\n",
    "    df_ua = pd.concat(df_list) "
   ]
  },
  {
   "cell_type": "code",
   "execution_count": 191,
   "metadata": {},
   "outputs": [],
   "source": [
    "df_ua.to_csv('single_csv_file.csv')"
   ]
  },
  {
   "cell_type": "code",
   "execution_count": 172,
   "metadata": {},
   "outputs": [
    {
     "data": {
      "text/plain": [
       "[           date  SWE_UA   latitude   longitude\n",
       " 0    2012-10-01     0.0  37.077776 -118.723445\n",
       " 1    2012-10-02     0.0  37.077776 -118.723445\n",
       " 2    2012-10-03     0.0  37.077776 -118.723445\n",
       " 3    2012-10-04     0.0  37.077776 -118.723445\n",
       " 4    2012-10-05     0.0  37.077776 -118.723445\n",
       " ...         ...     ...        ...         ...\n",
       " 1821 2017-09-26    22.0  37.077776 -118.723445\n",
       " 1822 2017-09-27    20.0  37.077776 -118.723445\n",
       " 1823 2017-09-28    15.0  37.077776 -118.723445\n",
       " 1824 2017-09-29     8.0  37.077776 -118.723445\n",
       " 1825 2017-09-30     1.0  37.077776 -118.723445\n",
       " \n",
       " [1826 rows x 4 columns],            date  SWE_UA   latitude   longitude\n",
       " 0    2012-10-01     0.0  37.783973 -107.081279\n",
       " 1    2012-10-02     0.0  37.783973 -107.081279\n",
       " 2    2012-10-03     0.0  37.783973 -107.081279\n",
       " 3    2012-10-04     0.0  37.783973 -107.081279\n",
       " 4    2012-10-05     0.0  37.783973 -107.081279\n",
       " ...         ...     ...        ...         ...\n",
       " 1821 2017-09-26     0.0  37.783973 -107.081279\n",
       " 1822 2017-09-27     0.0  37.783973 -107.081279\n",
       " 1823 2017-09-28     0.0  37.783973 -107.081279\n",
       " 1824 2017-09-29     0.0  37.783973 -107.081279\n",
       " 1825 2017-09-30     0.0  37.783973 -107.081279\n",
       " \n",
       " [1826 rows x 4 columns],            date  SWE_UA   latitude   longitude\n",
       " 0    2012-10-01     0.0  37.027591 -119.406164\n",
       " 1    2012-10-02     0.0  37.027591 -119.406164\n",
       " 2    2012-10-03     0.0  37.027591 -119.406164\n",
       " 3    2012-10-04     0.0  37.027591 -119.406164\n",
       " 4    2012-10-05     0.0  37.027591 -119.406164\n",
       " ...         ...     ...        ...         ...\n",
       " 1821 2017-09-26     0.0  37.027591 -119.406164\n",
       " 1822 2017-09-27     0.0  37.027591 -119.406164\n",
       " 1823 2017-09-28     0.0  37.027591 -119.406164\n",
       " 1824 2017-09-29     0.0  37.027591 -119.406164\n",
       " 1825 2017-09-30     0.0  37.027591 -119.406164\n",
       " \n",
       " [1826 rows x 4 columns],            date  SWE_UA   latitude   longitude\n",
       " 0    2012-10-01     0.0  37.435274 -119.325316\n",
       " 1    2012-10-02     0.0  37.435274 -119.325316\n",
       " 2    2012-10-03     0.0  37.435274 -119.325316\n",
       " 3    2012-10-04     0.0  37.435274 -119.325316\n",
       " 4    2012-10-05     0.0  37.435274 -119.325316\n",
       " ...         ...     ...        ...         ...\n",
       " 1821 2017-09-26     0.0  37.435274 -119.325316\n",
       " 1822 2017-09-27     0.0  37.435274 -119.325316\n",
       " 1823 2017-09-28     0.0  37.435274 -119.325316\n",
       " 1824 2017-09-29     0.0  37.435274 -119.325316\n",
       " 1825 2017-09-30     0.0  37.435274 -119.325316\n",
       " \n",
       " [1826 rows x 4 columns],            date  SWE_UA   latitude   longitude\n",
       " 0    2012-10-01     0.0  36.660957 -118.525815\n",
       " 1    2012-10-02     0.0  36.660957 -118.525815\n",
       " 2    2012-10-03     0.0  36.660957 -118.525815\n",
       " 3    2012-10-04     0.0  36.660957 -118.525815\n",
       " 4    2012-10-05     0.0  36.660957 -118.525815\n",
       " ...         ...     ...        ...         ...\n",
       " 1821 2017-09-26     0.0  36.660957 -118.525815\n",
       " 1822 2017-09-27     0.0  36.660957 -118.525815\n",
       " 1823 2017-09-28     0.0  36.660957 -118.525815\n",
       " 1824 2017-09-29     0.0  36.660957 -118.525815\n",
       " 1825 2017-09-30     0.0  36.660957 -118.525815\n",
       " \n",
       " [1826 rows x 4 columns]]"
      ]
     },
     "execution_count": 172,
     "metadata": {},
     "output_type": "execute_result"
    }
   ],
   "source": [
    "df_list"
   ]
  },
  {
   "cell_type": "code",
   "execution_count": 116,
   "metadata": {},
   "outputs": [],
   "source": [
    "df_ua = pd.concat(df_list)"
   ]
  },
  {
   "cell_type": "code",
   "execution_count": 123,
   "metadata": {},
   "outputs": [
    {
     "data": {
      "text/plain": [
       "<matplotlib.axes._subplots.AxesSubplot at 0x1c24607908>"
      ]
     },
     "execution_count": 123,
     "metadata": {},
     "output_type": "execute_result"
    },
    {
     "data": {
      "image/png": "[encoded data removed]",
      "text/plain": [
       "<Figure size 432x288 with 1 Axes>"
      ]
     },
     "metadata": {
      "needs_background": "light"
     },
     "output_type": "display_data"
    }
   ],
   "source": [
    "test = df_list[2]\n",
    "test['SWE_UA'].plot()"
   ]
  },
  {
   "cell_type": "code",
   "execution_count": 117,
   "metadata": {},
   "outputs": [
    {
     "data": {
      "text/plain": [
       "<matplotlib.axes._subplots.AxesSubplot at 0x1c24537c50>"
      ]
     },
     "execution_count": 117,
     "metadata": {},
     "output_type": "execute_result"
    },
    {
     "data": {
      "image/png": "[encoded data removed]",
      "text/plain": [
       "<Figure size 432x288 with 1 Axes>"
      ]
     },
     "metadata": {
      "needs_background": "light"
     },
     "output_type": "display_data"
    }
   ],
   "source": [
    "df_ua['SWE_UA'].plot()"
   ]
  },
  {
   "cell_type": "code",
   "execution_count": 113,
   "metadata": {},
   "outputs": [
    {
     "data": {
      "text/plain": [
       "<matplotlib.axes._subplots.AxesSubplot at 0x1c244eacf8>"
      ]
     },
     "execution_count": 113,
     "metadata": {},
     "output_type": "execute_result"
    },
    {
     "data": {
      "image/png": "[encoded data removed]",
      "text/plain": [
       "<Figure size 432x288 with 1 Axes>"
      ]
     },
     "metadata": {
      "needs_background": "light"
     },
     "output_type": "display_data"
    }
   ],
   "source": [
    "df['SWE_UA'].plot()"
   ]
  },
  {
   "cell_type": "code",
   "execution_count": 46,
   "metadata": {},
   "outputs": [
    {
     "data": {
      "text/plain": [
       "<matplotlib.axes._subplots.AxesSubplot at 0x1c2435b668>"
      ]
     },
     "execution_count": 46,
     "metadata": {},
     "output_type": "execute_result"
    },
    {
     "data": {
      "image/png": "[encoded data removed]",
      "text/plain": [
       "<Figure size 432x288 with 1 Axes>"
      ]
     },
     "metadata": {
      "needs_background": "light"
     },
     "output_type": "display_data"
    }
   ],
   "source": [
    "df_ua.plot(x = 'date', y = 'SWE_UA')"
   ]
  },
  {
   "cell_type": "code",
   "execution_count": 54,
   "metadata": {},
   "outputs": [
    {
     "data": {
      "text/plain": [
       "list"
      ]
     },
     "execution_count": 54,
     "metadata": {},
     "output_type": "execute_result"
    }
   ],
   "source": [
    "type(lon_grid)"
   ]
  },
  {
   "cell_type": "code",
   "execution_count": 38,
   "metadata": {},
   "outputs": [
    {
     "data": {
      "text/plain": [
       "array(['2012-10-01T00:00:00.000000000', '2012-10-02T00:00:00.000000000',\n",
       "       '2012-10-03T00:00:00.000000000', ...,\n",
       "       '2017-09-28T00:00:00.000000000', '2017-09-29T00:00:00.000000000',\n",
       "       '2017-09-30T00:00:00.000000000'], dtype='datetime64[ns]')"
      ]
     },
     "execution_count": 38,
     "metadata": {},
     "output_type": "execute_result"
    }
   ],
   "source": [
    "dataUA_point.time.values"
   ]
  },
  {
   "cell_type": "code",
   "execution_count": 54,
   "metadata": {},
   "outputs": [],
   "source": [
    "test = dataUA_point.to_dataframe()"
   ]
  },
  {
   "cell_type": "code",
   "execution_count": 55,
   "metadata": {},
   "outputs": [
    {
     "data": {
      "text/html": [
       "<div>\n",
       "<style scoped>\n",
       "    .dataframe tbody tr th:only-of-type {\n",
       "        vertical-align: middle;\n",
       "    }\n",
       "\n",
       "    .dataframe tbody tr th {\n",
       "        vertical-align: top;\n",
       "    }\n",
       "\n",
       "    .dataframe thead th {\n",
       "        text-align: right;\n",
       "    }\n",
       "</style>\n",
       "<table border=\"1\" class=\"dataframe\">\n",
       "  <thead>\n",
       "    <tr style=\"text-align: right;\">\n",
       "      <th></th>\n",
       "      <th></th>\n",
       "      <th>lat</th>\n",
       "      <th>lon</th>\n",
       "      <th>crs</th>\n",
       "      <th>time_str</th>\n",
       "      <th>SWE</th>\n",
       "      <th>DEPTH</th>\n",
       "    </tr>\n",
       "    <tr>\n",
       "      <th>time</th>\n",
       "      <th>time_str_len</th>\n",
       "      <th></th>\n",
       "      <th></th>\n",
       "      <th></th>\n",
       "      <th></th>\n",
       "      <th></th>\n",
       "      <th></th>\n",
       "    </tr>\n",
       "  </thead>\n",
       "  <tbody>\n",
       "    <tr>\n",
       "      <th rowspan=\"5\" valign=\"top\">2012-10-01</th>\n",
       "      <th>0</th>\n",
       "      <td>47.541668</td>\n",
       "      <td>-123.791664</td>\n",
       "      <td>b''</td>\n",
       "      <td>b'0'</td>\n",
       "      <td>0.0</td>\n",
       "      <td>0.0</td>\n",
       "    </tr>\n",
       "    <tr>\n",
       "      <th>1</th>\n",
       "      <td>47.541668</td>\n",
       "      <td>-123.791664</td>\n",
       "      <td>b''</td>\n",
       "      <td>b'1'</td>\n",
       "      <td>0.0</td>\n",
       "      <td>0.0</td>\n",
       "    </tr>\n",
       "    <tr>\n",
       "      <th>2</th>\n",
       "      <td>47.541668</td>\n",
       "      <td>-123.791664</td>\n",
       "      <td>b''</td>\n",
       "      <td>b'-'</td>\n",
       "      <td>0.0</td>\n",
       "      <td>0.0</td>\n",
       "    </tr>\n",
       "    <tr>\n",
       "      <th>3</th>\n",
       "      <td>47.541668</td>\n",
       "      <td>-123.791664</td>\n",
       "      <td>b''</td>\n",
       "      <td>b'O'</td>\n",
       "      <td>0.0</td>\n",
       "      <td>0.0</td>\n",
       "    </tr>\n",
       "    <tr>\n",
       "      <th>4</th>\n",
       "      <td>47.541668</td>\n",
       "      <td>-123.791664</td>\n",
       "      <td>b''</td>\n",
       "      <td>b'c'</td>\n",
       "      <td>0.0</td>\n",
       "      <td>0.0</td>\n",
       "    </tr>\n",
       "    <tr>\n",
       "      <th>...</th>\n",
       "      <th>...</th>\n",
       "      <td>...</td>\n",
       "      <td>...</td>\n",
       "      <td>...</td>\n",
       "      <td>...</td>\n",
       "      <td>...</td>\n",
       "      <td>...</td>\n",
       "    </tr>\n",
       "    <tr>\n",
       "      <th rowspan=\"5\" valign=\"top\">2017-09-30</th>\n",
       "      <th>6</th>\n",
       "      <td>47.541668</td>\n",
       "      <td>-123.791664</td>\n",
       "      <td>b''</td>\n",
       "      <td>b'-'</td>\n",
       "      <td>0.0</td>\n",
       "      <td>0.0</td>\n",
       "    </tr>\n",
       "    <tr>\n",
       "      <th>7</th>\n",
       "      <td>47.541668</td>\n",
       "      <td>-123.791664</td>\n",
       "      <td>b''</td>\n",
       "      <td>b'2'</td>\n",
       "      <td>0.0</td>\n",
       "      <td>0.0</td>\n",
       "    </tr>\n",
       "    <tr>\n",
       "      <th>8</th>\n",
       "      <td>47.541668</td>\n",
       "      <td>-123.791664</td>\n",
       "      <td>b''</td>\n",
       "      <td>b'0'</td>\n",
       "      <td>0.0</td>\n",
       "      <td>0.0</td>\n",
       "    </tr>\n",
       "    <tr>\n",
       "      <th>9</th>\n",
       "      <td>47.541668</td>\n",
       "      <td>-123.791664</td>\n",
       "      <td>b''</td>\n",
       "      <td>b'1'</td>\n",
       "      <td>0.0</td>\n",
       "      <td>0.0</td>\n",
       "    </tr>\n",
       "    <tr>\n",
       "      <th>10</th>\n",
       "      <td>47.541668</td>\n",
       "      <td>-123.791664</td>\n",
       "      <td>b''</td>\n",
       "      <td>b'7'</td>\n",
       "      <td>0.0</td>\n",
       "      <td>0.0</td>\n",
       "    </tr>\n",
       "  </tbody>\n",
       "</table>\n",
       "<p>20086 rows × 6 columns</p>\n",
       "</div>"
      ],
      "text/plain": [
       "                               lat         lon  crs time_str  SWE  DEPTH\n",
       "time       time_str_len                                                 \n",
       "2012-10-01 0             47.541668 -123.791664  b''     b'0'  0.0    0.0\n",
       "           1             47.541668 -123.791664  b''     b'1'  0.0    0.0\n",
       "           2             47.541668 -123.791664  b''     b'-'  0.0    0.0\n",
       "           3             47.541668 -123.791664  b''     b'O'  0.0    0.0\n",
       "           4             47.541668 -123.791664  b''     b'c'  0.0    0.0\n",
       "...                            ...         ...  ...      ...  ...    ...\n",
       "2017-09-30 6             47.541668 -123.791664  b''     b'-'  0.0    0.0\n",
       "           7             47.541668 -123.791664  b''     b'2'  0.0    0.0\n",
       "           8             47.541668 -123.791664  b''     b'0'  0.0    0.0\n",
       "           9             47.541668 -123.791664  b''     b'1'  0.0    0.0\n",
       "           10            47.541668 -123.791664  b''     b'7'  0.0    0.0\n",
       "\n",
       "[20086 rows x 6 columns]"
      ]
     },
     "execution_count": 55,
     "metadata": {},
     "output_type": "execute_result"
    }
   ],
   "source": [
    "test"
   ]
  },
  {
   "cell_type": "code",
   "execution_count": 53,
   "metadata": {},
   "outputs": [
    {
     "data": {
      "text/plain": [
       "<xarray.Dataset>\n",
       "Dimensions:   (time: 1826, time_str_len: 11)\n",
       "Coordinates:\n",
       "    lat       float32 47.541668\n",
       "    lon       float32 -123.791664\n",
       "  * time      (time) datetime64[ns] 2012-10-01 2012-10-02 2012-10-03 ...\n",
       "Dimensions without coordinates: time_str_len\n",
       "Data variables:\n",
       "    crs       (time) |S1 b'' b'' b'' b'' b'' b'' b'' b'' b'' b'' b'' b'' b'' ...\n",
       "    time_str  (time_str_len, time) |S1 dask.array<shape=(11, 1826), chunksize=(11, 365)>\n",
       "    SWE       (time) float32 dask.array<shape=(1826,), chunksize=(365,)>\n",
       "    DEPTH     (time) float32 dask.array<shape=(1826,), chunksize=(365,)>"
      ]
     },
     "execution_count": 53,
     "metadata": {},
     "output_type": "execute_result"
    }
   ],
   "source": [
    "dataUA_point"
   ]
  },
  {
   "cell_type": "code",
   "execution_count": 36,
   "metadata": {},
   "outputs": [
    {
     "data": {
      "text/plain": [
       "<xarray.Dataset>\n",
       "Dimensions:   (time: 1826, time_str_len: 11)\n",
       "Coordinates:\n",
       "    lat       float32 47.541668\n",
       "    lon       float32 -123.791664\n",
       "  * time      (time) datetime64[ns] 2012-10-01 2012-10-02 2012-10-03 ...\n",
       "Dimensions without coordinates: time_str_len\n",
       "Data variables:\n",
       "    crs       (time) |S1 b'' b'' b'' b'' b'' b'' b'' b'' b'' b'' b'' b'' b'' ...\n",
       "    time_str  (time_str_len, time) |S1 dask.array<shape=(11, 1826), chunksize=(11, 365)>\n",
       "    SWE       (time) float32 dask.array<shape=(1826,), chunksize=(365,)>\n",
       "    DEPTH     (time) float32 dask.array<shape=(1826,), chunksize=(365,)>"
      ]
     },
     "execution_count": 36,
     "metadata": {},
     "output_type": "execute_result"
    }
   ],
   "source": [
    " rows.append([i, i + 1])"
   ]
  },
  {
   "cell_type": "code",
   "execution_count": null,
   "metadata": {},
   "outputs": [],
   "source": []
  },
  {
   "cell_type": "code",
   "execution_count": 43,
   "metadata": {},
   "outputs": [
    {
     "ename": "SyntaxError",
     "evalue": "invalid syntax (<ipython-input-43-150fbaac2201>, line 1)",
     "output_type": "error",
     "traceback": [
      "\u001b[0;36m  File \u001b[0;32m\"<ipython-input-43-150fbaac2201>\"\u001b[0;36m, line \u001b[0;32m1\u001b[0m\n\u001b[0;31m    da_ua_out = [dataUA_point.time.values dataUA_point.lat.values dataUA_point.lon.values dataUA_point.SWE.values dataUA_point.DEPTH.values]\u001b[0m\n\u001b[0m                                                     ^\u001b[0m\n\u001b[0;31mSyntaxError\u001b[0m\u001b[0;31m:\u001b[0m invalid syntax\n"
     ]
    }
   ],
   "source": [
    "da_ua_out = [dataUA_point.time.values dataUA_point.lat.values dataUA_point.lon.values dataUA_point.SWE.values dataUA_point.DEPTH.values]"
   ]
  },
  {
   "cell_type": "code",
   "execution_count": 51,
   "metadata": {},
   "outputs": [],
   "source": [
    "da_ua_out = [dataUA_point.lat.values, dataUA_point.lat.values]"
   ]
  },
  {
   "cell_type": "code",
   "execution_count": 52,
   "metadata": {},
   "outputs": [
    {
     "data": {
      "text/plain": [
       "list"
      ]
     },
     "execution_count": 52,
     "metadata": {},
     "output_type": "execute_result"
    }
   ],
   "source": [
    "type(da_ua_out)"
   ]
  },
  {
   "cell_type": "code",
   "execution_count": null,
   "metadata": {},
   "outputs": [],
   "source": []
  },
  {
   "cell_type": "code",
   "execution_count": 195,
   "metadata": {},
   "outputs": [],
   "source": [
    "us_grid = pd.read_csv('/Users/carina/Desktop/code/Processing_tools/us_grid.csv')"
   ]
  },
  {
   "cell_type": "code",
   "execution_count": 196,
   "metadata": {},
   "outputs": [
    {
     "data": {
      "text/html": [
       "<div>\n",
       "<style scoped>\n",
       "    .dataframe tbody tr th:only-of-type {\n",
       "        vertical-align: middle;\n",
       "    }\n",
       "\n",
       "    .dataframe tbody tr th {\n",
       "        vertical-align: top;\n",
       "    }\n",
       "\n",
       "    .dataframe thead th {\n",
       "        text-align: right;\n",
       "    }\n",
       "</style>\n",
       "<table border=\"1\" class=\"dataframe\">\n",
       "  <thead>\n",
       "    <tr style=\"text-align: right;\">\n",
       "      <th></th>\n",
       "      <th>Unnamed: 0</th>\n",
       "      <th>date</th>\n",
       "      <th>SWE_UA</th>\n",
       "      <th>Depth_UA</th>\n",
       "      <th>latitude</th>\n",
       "      <th>longitude</th>\n",
       "      <th>label</th>\n",
       "    </tr>\n",
       "  </thead>\n",
       "  <tbody>\n",
       "    <tr>\n",
       "      <th>0</th>\n",
       "      <td>0</td>\n",
       "      <td>2012-10-01</td>\n",
       "      <td>0.0</td>\n",
       "      <td>0.0</td>\n",
       "      <td>37.077776</td>\n",
       "      <td>-118.723445</td>\n",
       "      <td>0003f387-71c4-48f6-b2b0-d853bd4f0aba</td>\n",
       "    </tr>\n",
       "    <tr>\n",
       "      <th>1</th>\n",
       "      <td>1</td>\n",
       "      <td>2012-10-02</td>\n",
       "      <td>0.0</td>\n",
       "      <td>0.0</td>\n",
       "      <td>37.077776</td>\n",
       "      <td>-118.723445</td>\n",
       "      <td>0003f387-71c4-48f6-b2b0-d853bd4f0aba</td>\n",
       "    </tr>\n",
       "    <tr>\n",
       "      <th>2</th>\n",
       "      <td>2</td>\n",
       "      <td>2012-10-03</td>\n",
       "      <td>0.0</td>\n",
       "      <td>0.0</td>\n",
       "      <td>37.077776</td>\n",
       "      <td>-118.723445</td>\n",
       "      <td>0003f387-71c4-48f6-b2b0-d853bd4f0aba</td>\n",
       "    </tr>\n",
       "    <tr>\n",
       "      <th>3</th>\n",
       "      <td>3</td>\n",
       "      <td>2012-10-04</td>\n",
       "      <td>0.0</td>\n",
       "      <td>0.0</td>\n",
       "      <td>37.077776</td>\n",
       "      <td>-118.723445</td>\n",
       "      <td>0003f387-71c4-48f6-b2b0-d853bd4f0aba</td>\n",
       "    </tr>\n",
       "    <tr>\n",
       "      <th>4</th>\n",
       "      <td>4</td>\n",
       "      <td>2012-10-05</td>\n",
       "      <td>0.0</td>\n",
       "      <td>0.0</td>\n",
       "      <td>37.077776</td>\n",
       "      <td>-118.723445</td>\n",
       "      <td>0003f387-71c4-48f6-b2b0-d853bd4f0aba</td>\n",
       "    </tr>\n",
       "    <tr>\n",
       "      <th>...</th>\n",
       "      <td>...</td>\n",
       "      <td>...</td>\n",
       "      <td>...</td>\n",
       "      <td>...</td>\n",
       "      <td>...</td>\n",
       "      <td>...</td>\n",
       "      <td>...</td>\n",
       "    </tr>\n",
       "    <tr>\n",
       "      <th>33105375</th>\n",
       "      <td>1821</td>\n",
       "      <td>2017-09-26</td>\n",
       "      <td>0.0</td>\n",
       "      <td>0.0</td>\n",
       "      <td>47.523549</td>\n",
       "      <td>-123.798926</td>\n",
       "      <td>fffb4d40-5947-4922-9f05-5d8b5a243d84</td>\n",
       "    </tr>\n",
       "    <tr>\n",
       "      <th>33105376</th>\n",
       "      <td>1822</td>\n",
       "      <td>2017-09-27</td>\n",
       "      <td>0.0</td>\n",
       "      <td>0.0</td>\n",
       "      <td>47.523549</td>\n",
       "      <td>-123.798926</td>\n",
       "      <td>fffb4d40-5947-4922-9f05-5d8b5a243d84</td>\n",
       "    </tr>\n",
       "    <tr>\n",
       "      <th>33105377</th>\n",
       "      <td>1823</td>\n",
       "      <td>2017-09-28</td>\n",
       "      <td>0.0</td>\n",
       "      <td>0.0</td>\n",
       "      <td>47.523549</td>\n",
       "      <td>-123.798926</td>\n",
       "      <td>fffb4d40-5947-4922-9f05-5d8b5a243d84</td>\n",
       "    </tr>\n",
       "    <tr>\n",
       "      <th>33105378</th>\n",
       "      <td>1824</td>\n",
       "      <td>2017-09-29</td>\n",
       "      <td>0.0</td>\n",
       "      <td>0.0</td>\n",
       "      <td>47.523549</td>\n",
       "      <td>-123.798926</td>\n",
       "      <td>fffb4d40-5947-4922-9f05-5d8b5a243d84</td>\n",
       "    </tr>\n",
       "    <tr>\n",
       "      <th>33105379</th>\n",
       "      <td>1825</td>\n",
       "      <td>2017-09-30</td>\n",
       "      <td>0.0</td>\n",
       "      <td>0.0</td>\n",
       "      <td>47.523549</td>\n",
       "      <td>-123.798926</td>\n",
       "      <td>fffb4d40-5947-4922-9f05-5d8b5a243d84</td>\n",
       "    </tr>\n",
       "  </tbody>\n",
       "</table>\n",
       "<p>33105380 rows × 7 columns</p>\n",
       "</div>"
      ],
      "text/plain": [
       "          Unnamed: 0        date  SWE_UA  Depth_UA   latitude   longitude  \\\n",
       "0                  0  2012-10-01     0.0       0.0  37.077776 -118.723445   \n",
       "1                  1  2012-10-02     0.0       0.0  37.077776 -118.723445   \n",
       "2                  2  2012-10-03     0.0       0.0  37.077776 -118.723445   \n",
       "3                  3  2012-10-04     0.0       0.0  37.077776 -118.723445   \n",
       "4                  4  2012-10-05     0.0       0.0  37.077776 -118.723445   \n",
       "...              ...         ...     ...       ...        ...         ...   \n",
       "33105375        1821  2017-09-26     0.0       0.0  47.523549 -123.798926   \n",
       "33105376        1822  2017-09-27     0.0       0.0  47.523549 -123.798926   \n",
       "33105377        1823  2017-09-28     0.0       0.0  47.523549 -123.798926   \n",
       "33105378        1824  2017-09-29     0.0       0.0  47.523549 -123.798926   \n",
       "33105379        1825  2017-09-30     0.0       0.0  47.523549 -123.798926   \n",
       "\n",
       "                                         label  \n",
       "0         0003f387-71c4-48f6-b2b0-d853bd4f0aba  \n",
       "1         0003f387-71c4-48f6-b2b0-d853bd4f0aba  \n",
       "2         0003f387-71c4-48f6-b2b0-d853bd4f0aba  \n",
       "3         0003f387-71c4-48f6-b2b0-d853bd4f0aba  \n",
       "4         0003f387-71c4-48f6-b2b0-d853bd4f0aba  \n",
       "...                                        ...  \n",
       "33105375  fffb4d40-5947-4922-9f05-5d8b5a243d84  \n",
       "33105376  fffb4d40-5947-4922-9f05-5d8b5a243d84  \n",
       "33105377  fffb4d40-5947-4922-9f05-5d8b5a243d84  \n",
       "33105378  fffb4d40-5947-4922-9f05-5d8b5a243d84  \n",
       "33105379  fffb4d40-5947-4922-9f05-5d8b5a243d84  \n",
       "\n",
       "[33105380 rows x 7 columns]"
      ]
     },
     "execution_count": 196,
     "metadata": {},
     "output_type": "execute_result"
    }
   ],
   "source": [
    "us_grid"
   ]
  },
  {
   "cell_type": "code",
   "execution_count": 217,
   "metadata": {},
   "outputs": [],
   "source": [
    "#test = us_grid.loc(us_grid['label'] == '0003f387-71c4-48f6-b2b0-d853bd4f0aba')\n",
    "test = us_grid.iloc[0:1826]"
   ]
  },
  {
   "cell_type": "code",
   "execution_count": 220,
   "metadata": {},
   "outputs": [
    {
     "data": {
      "text/html": [
       "<div>\n",
       "<style scoped>\n",
       "    .dataframe tbody tr th:only-of-type {\n",
       "        vertical-align: middle;\n",
       "    }\n",
       "\n",
       "    .dataframe tbody tr th {\n",
       "        vertical-align: top;\n",
       "    }\n",
       "\n",
       "    .dataframe thead th {\n",
       "        text-align: right;\n",
       "    }\n",
       "</style>\n",
       "<table border=\"1\" class=\"dataframe\">\n",
       "  <thead>\n",
       "    <tr style=\"text-align: right;\">\n",
       "      <th></th>\n",
       "      <th>Unnamed: 0</th>\n",
       "      <th>date</th>\n",
       "      <th>SWE_UA</th>\n",
       "      <th>Depth_UA</th>\n",
       "      <th>latitude</th>\n",
       "      <th>longitude</th>\n",
       "      <th>label</th>\n",
       "    </tr>\n",
       "  </thead>\n",
       "  <tbody>\n",
       "    <tr>\n",
       "      <th>0</th>\n",
       "      <td>0</td>\n",
       "      <td>2012-10-01</td>\n",
       "      <td>0.0</td>\n",
       "      <td>0.0</td>\n",
       "      <td>37.077776</td>\n",
       "      <td>-118.723445</td>\n",
       "      <td>0003f387-71c4-48f6-b2b0-d853bd4f0aba</td>\n",
       "    </tr>\n",
       "    <tr>\n",
       "      <th>1</th>\n",
       "      <td>1</td>\n",
       "      <td>2012-10-02</td>\n",
       "      <td>0.0</td>\n",
       "      <td>0.0</td>\n",
       "      <td>37.077776</td>\n",
       "      <td>-118.723445</td>\n",
       "      <td>0003f387-71c4-48f6-b2b0-d853bd4f0aba</td>\n",
       "    </tr>\n",
       "    <tr>\n",
       "      <th>2</th>\n",
       "      <td>2</td>\n",
       "      <td>2012-10-03</td>\n",
       "      <td>0.0</td>\n",
       "      <td>0.0</td>\n",
       "      <td>37.077776</td>\n",
       "      <td>-118.723445</td>\n",
       "      <td>0003f387-71c4-48f6-b2b0-d853bd4f0aba</td>\n",
       "    </tr>\n",
       "    <tr>\n",
       "      <th>3</th>\n",
       "      <td>3</td>\n",
       "      <td>2012-10-04</td>\n",
       "      <td>0.0</td>\n",
       "      <td>0.0</td>\n",
       "      <td>37.077776</td>\n",
       "      <td>-118.723445</td>\n",
       "      <td>0003f387-71c4-48f6-b2b0-d853bd4f0aba</td>\n",
       "    </tr>\n",
       "    <tr>\n",
       "      <th>4</th>\n",
       "      <td>4</td>\n",
       "      <td>2012-10-05</td>\n",
       "      <td>0.0</td>\n",
       "      <td>0.0</td>\n",
       "      <td>37.077776</td>\n",
       "      <td>-118.723445</td>\n",
       "      <td>0003f387-71c4-48f6-b2b0-d853bd4f0aba</td>\n",
       "    </tr>\n",
       "    <tr>\n",
       "      <th>...</th>\n",
       "      <td>...</td>\n",
       "      <td>...</td>\n",
       "      <td>...</td>\n",
       "      <td>...</td>\n",
       "      <td>...</td>\n",
       "      <td>...</td>\n",
       "      <td>...</td>\n",
       "    </tr>\n",
       "    <tr>\n",
       "      <th>1821</th>\n",
       "      <td>1821</td>\n",
       "      <td>2017-09-26</td>\n",
       "      <td>22.0</td>\n",
       "      <td>133.0</td>\n",
       "      <td>37.077776</td>\n",
       "      <td>-118.723445</td>\n",
       "      <td>0003f387-71c4-48f6-b2b0-d853bd4f0aba</td>\n",
       "    </tr>\n",
       "    <tr>\n",
       "      <th>1822</th>\n",
       "      <td>1822</td>\n",
       "      <td>2017-09-27</td>\n",
       "      <td>20.0</td>\n",
       "      <td>105.0</td>\n",
       "      <td>37.077776</td>\n",
       "      <td>-118.723445</td>\n",
       "      <td>0003f387-71c4-48f6-b2b0-d853bd4f0aba</td>\n",
       "    </tr>\n",
       "    <tr>\n",
       "      <th>1823</th>\n",
       "      <td>1823</td>\n",
       "      <td>2017-09-28</td>\n",
       "      <td>15.0</td>\n",
       "      <td>72.0</td>\n",
       "      <td>37.077776</td>\n",
       "      <td>-118.723445</td>\n",
       "      <td>0003f387-71c4-48f6-b2b0-d853bd4f0aba</td>\n",
       "    </tr>\n",
       "    <tr>\n",
       "      <th>1824</th>\n",
       "      <td>1824</td>\n",
       "      <td>2017-09-29</td>\n",
       "      <td>8.0</td>\n",
       "      <td>35.0</td>\n",
       "      <td>37.077776</td>\n",
       "      <td>-118.723445</td>\n",
       "      <td>0003f387-71c4-48f6-b2b0-d853bd4f0aba</td>\n",
       "    </tr>\n",
       "    <tr>\n",
       "      <th>1825</th>\n",
       "      <td>1825</td>\n",
       "      <td>2017-09-30</td>\n",
       "      <td>1.0</td>\n",
       "      <td>5.0</td>\n",
       "      <td>37.077776</td>\n",
       "      <td>-118.723445</td>\n",
       "      <td>0003f387-71c4-48f6-b2b0-d853bd4f0aba</td>\n",
       "    </tr>\n",
       "  </tbody>\n",
       "</table>\n",
       "<p>1826 rows × 7 columns</p>\n",
       "</div>"
      ],
      "text/plain": [
       "      Unnamed: 0        date  SWE_UA  Depth_UA   latitude   longitude  \\\n",
       "0              0  2012-10-01     0.0       0.0  37.077776 -118.723445   \n",
       "1              1  2012-10-02     0.0       0.0  37.077776 -118.723445   \n",
       "2              2  2012-10-03     0.0       0.0  37.077776 -118.723445   \n",
       "3              3  2012-10-04     0.0       0.0  37.077776 -118.723445   \n",
       "4              4  2012-10-05     0.0       0.0  37.077776 -118.723445   \n",
       "...          ...         ...     ...       ...        ...         ...   \n",
       "1821        1821  2017-09-26    22.0     133.0  37.077776 -118.723445   \n",
       "1822        1822  2017-09-27    20.0     105.0  37.077776 -118.723445   \n",
       "1823        1823  2017-09-28    15.0      72.0  37.077776 -118.723445   \n",
       "1824        1824  2017-09-29     8.0      35.0  37.077776 -118.723445   \n",
       "1825        1825  2017-09-30     1.0       5.0  37.077776 -118.723445   \n",
       "\n",
       "                                     label  \n",
       "0     0003f387-71c4-48f6-b2b0-d853bd4f0aba  \n",
       "1     0003f387-71c4-48f6-b2b0-d853bd4f0aba  \n",
       "2     0003f387-71c4-48f6-b2b0-d853bd4f0aba  \n",
       "3     0003f387-71c4-48f6-b2b0-d853bd4f0aba  \n",
       "4     0003f387-71c4-48f6-b2b0-d853bd4f0aba  \n",
       "...                                    ...  \n",
       "1821  0003f387-71c4-48f6-b2b0-d853bd4f0aba  \n",
       "1822  0003f387-71c4-48f6-b2b0-d853bd4f0aba  \n",
       "1823  0003f387-71c4-48f6-b2b0-d853bd4f0aba  \n",
       "1824  0003f387-71c4-48f6-b2b0-d853bd4f0aba  \n",
       "1825  0003f387-71c4-48f6-b2b0-d853bd4f0aba  \n",
       "\n",
       "[1826 rows x 7 columns]"
      ]
     },
     "execution_count": 220,
     "metadata": {},
     "output_type": "execute_result"
    }
   ],
   "source": [
    "test"
   ]
  },
  {
   "cell_type": "code",
   "execution_count": 235,
   "metadata": {},
   "outputs": [
    {
     "data": {
      "text/html": [
       "<div>\n",
       "<style scoped>\n",
       "    .dataframe tbody tr th:only-of-type {\n",
       "        vertical-align: middle;\n",
       "    }\n",
       "\n",
       "    .dataframe tbody tr th {\n",
       "        vertical-align: top;\n",
       "    }\n",
       "\n",
       "    .dataframe thead th {\n",
       "        text-align: right;\n",
       "    }\n",
       "</style>\n",
       "<table border=\"1\" class=\"dataframe\">\n",
       "  <thead>\n",
       "    <tr style=\"text-align: right;\">\n",
       "      <th></th>\n",
       "      <th>Unnamed: 0</th>\n",
       "      <th>date</th>\n",
       "      <th>SWE_UA</th>\n",
       "      <th>Depth_UA</th>\n",
       "      <th>latitude</th>\n",
       "      <th>longitude</th>\n",
       "    </tr>\n",
       "    <tr>\n",
       "      <th>label</th>\n",
       "      <th></th>\n",
       "      <th></th>\n",
       "      <th></th>\n",
       "      <th></th>\n",
       "      <th></th>\n",
       "      <th></th>\n",
       "    </tr>\n",
       "  </thead>\n",
       "  <tbody>\n",
       "    <tr>\n",
       "      <th>0003f387-71c4-48f6-b2b0-d853bd4f0aba</th>\n",
       "      <td>0</td>\n",
       "      <td>2012-10-01</td>\n",
       "      <td>0.0</td>\n",
       "      <td>0.0</td>\n",
       "      <td>37.077776</td>\n",
       "      <td>-118.723445</td>\n",
       "    </tr>\n",
       "    <tr>\n",
       "      <th>0003f387-71c4-48f6-b2b0-d853bd4f0aba</th>\n",
       "      <td>1</td>\n",
       "      <td>2012-10-02</td>\n",
       "      <td>0.0</td>\n",
       "      <td>0.0</td>\n",
       "      <td>37.077776</td>\n",
       "      <td>-118.723445</td>\n",
       "    </tr>\n",
       "    <tr>\n",
       "      <th>0003f387-71c4-48f6-b2b0-d853bd4f0aba</th>\n",
       "      <td>2</td>\n",
       "      <td>2012-10-03</td>\n",
       "      <td>0.0</td>\n",
       "      <td>0.0</td>\n",
       "      <td>37.077776</td>\n",
       "      <td>-118.723445</td>\n",
       "    </tr>\n",
       "    <tr>\n",
       "      <th>0003f387-71c4-48f6-b2b0-d853bd4f0aba</th>\n",
       "      <td>3</td>\n",
       "      <td>2012-10-04</td>\n",
       "      <td>0.0</td>\n",
       "      <td>0.0</td>\n",
       "      <td>37.077776</td>\n",
       "      <td>-118.723445</td>\n",
       "    </tr>\n",
       "    <tr>\n",
       "      <th>0003f387-71c4-48f6-b2b0-d853bd4f0aba</th>\n",
       "      <td>4</td>\n",
       "      <td>2012-10-05</td>\n",
       "      <td>0.0</td>\n",
       "      <td>0.0</td>\n",
       "      <td>37.077776</td>\n",
       "      <td>-118.723445</td>\n",
       "    </tr>\n",
       "  </tbody>\n",
       "</table>\n",
       "</div>"
      ],
      "text/plain": [
       "                                      Unnamed: 0        date  SWE_UA  \\\n",
       "label                                                                  \n",
       "0003f387-71c4-48f6-b2b0-d853bd4f0aba           0  2012-10-01     0.0   \n",
       "0003f387-71c4-48f6-b2b0-d853bd4f0aba           1  2012-10-02     0.0   \n",
       "0003f387-71c4-48f6-b2b0-d853bd4f0aba           2  2012-10-03     0.0   \n",
       "0003f387-71c4-48f6-b2b0-d853bd4f0aba           3  2012-10-04     0.0   \n",
       "0003f387-71c4-48f6-b2b0-d853bd4f0aba           4  2012-10-05     0.0   \n",
       "\n",
       "                                      Depth_UA   latitude   longitude  \n",
       "label                                                                  \n",
       "0003f387-71c4-48f6-b2b0-d853bd4f0aba       0.0  37.077776 -118.723445  \n",
       "0003f387-71c4-48f6-b2b0-d853bd4f0aba       0.0  37.077776 -118.723445  \n",
       "0003f387-71c4-48f6-b2b0-d853bd4f0aba       0.0  37.077776 -118.723445  \n",
       "0003f387-71c4-48f6-b2b0-d853bd4f0aba       0.0  37.077776 -118.723445  \n",
       "0003f387-71c4-48f6-b2b0-d853bd4f0aba       0.0  37.077776 -118.723445  "
      ]
     },
     "execution_count": 235,
     "metadata": {},
     "output_type": "execute_result"
    }
   ],
   "source": [
    "us_grid.set_index(\"label\", inplace=True)\n",
    "us_grid.head()"
   ]
  },
  {
   "cell_type": "code",
   "execution_count": 238,
   "metadata": {},
   "outputs": [],
   "source": [
    "test = us_grid.loc['0003f387-71c4-48f6-b2b0-d853bd4f0aba']"
   ]
  },
  {
   "cell_type": "code",
   "execution_count": 239,
   "metadata": {},
   "outputs": [
    {
     "data": {
      "text/html": [
       "<div>\n",
       "<style scoped>\n",
       "    .dataframe tbody tr th:only-of-type {\n",
       "        vertical-align: middle;\n",
       "    }\n",
       "\n",
       "    .dataframe tbody tr th {\n",
       "        vertical-align: top;\n",
       "    }\n",
       "\n",
       "    .dataframe thead th {\n",
       "        text-align: right;\n",
       "    }\n",
       "</style>\n",
       "<table border=\"1\" class=\"dataframe\">\n",
       "  <thead>\n",
       "    <tr style=\"text-align: right;\">\n",
       "      <th></th>\n",
       "      <th>Unnamed: 0</th>\n",
       "      <th>date</th>\n",
       "      <th>SWE_UA</th>\n",
       "      <th>Depth_UA</th>\n",
       "      <th>latitude</th>\n",
       "      <th>longitude</th>\n",
       "    </tr>\n",
       "    <tr>\n",
       "      <th>label</th>\n",
       "      <th></th>\n",
       "      <th></th>\n",
       "      <th></th>\n",
       "      <th></th>\n",
       "      <th></th>\n",
       "      <th></th>\n",
       "    </tr>\n",
       "  </thead>\n",
       "  <tbody>\n",
       "    <tr>\n",
       "      <th>0003f387-71c4-48f6-b2b0-d853bd4f0aba</th>\n",
       "      <td>0</td>\n",
       "      <td>2012-10-01</td>\n",
       "      <td>0.0</td>\n",
       "      <td>0.0</td>\n",
       "      <td>37.077776</td>\n",
       "      <td>-118.723445</td>\n",
       "    </tr>\n",
       "    <tr>\n",
       "      <th>0003f387-71c4-48f6-b2b0-d853bd4f0aba</th>\n",
       "      <td>1</td>\n",
       "      <td>2012-10-02</td>\n",
       "      <td>0.0</td>\n",
       "      <td>0.0</td>\n",
       "      <td>37.077776</td>\n",
       "      <td>-118.723445</td>\n",
       "    </tr>\n",
       "    <tr>\n",
       "      <th>0003f387-71c4-48f6-b2b0-d853bd4f0aba</th>\n",
       "      <td>2</td>\n",
       "      <td>2012-10-03</td>\n",
       "      <td>0.0</td>\n",
       "      <td>0.0</td>\n",
       "      <td>37.077776</td>\n",
       "      <td>-118.723445</td>\n",
       "    </tr>\n",
       "    <tr>\n",
       "      <th>0003f387-71c4-48f6-b2b0-d853bd4f0aba</th>\n",
       "      <td>3</td>\n",
       "      <td>2012-10-04</td>\n",
       "      <td>0.0</td>\n",
       "      <td>0.0</td>\n",
       "      <td>37.077776</td>\n",
       "      <td>-118.723445</td>\n",
       "    </tr>\n",
       "    <tr>\n",
       "      <th>0003f387-71c4-48f6-b2b0-d853bd4f0aba</th>\n",
       "      <td>4</td>\n",
       "      <td>2012-10-05</td>\n",
       "      <td>0.0</td>\n",
       "      <td>0.0</td>\n",
       "      <td>37.077776</td>\n",
       "      <td>-118.723445</td>\n",
       "    </tr>\n",
       "    <tr>\n",
       "      <th>...</th>\n",
       "      <td>...</td>\n",
       "      <td>...</td>\n",
       "      <td>...</td>\n",
       "      <td>...</td>\n",
       "      <td>...</td>\n",
       "      <td>...</td>\n",
       "    </tr>\n",
       "    <tr>\n",
       "      <th>0003f387-71c4-48f6-b2b0-d853bd4f0aba</th>\n",
       "      <td>1821</td>\n",
       "      <td>2017-09-26</td>\n",
       "      <td>22.0</td>\n",
       "      <td>133.0</td>\n",
       "      <td>37.077776</td>\n",
       "      <td>-118.723445</td>\n",
       "    </tr>\n",
       "    <tr>\n",
       "      <th>0003f387-71c4-48f6-b2b0-d853bd4f0aba</th>\n",
       "      <td>1822</td>\n",
       "      <td>2017-09-27</td>\n",
       "      <td>20.0</td>\n",
       "      <td>105.0</td>\n",
       "      <td>37.077776</td>\n",
       "      <td>-118.723445</td>\n",
       "    </tr>\n",
       "    <tr>\n",
       "      <th>0003f387-71c4-48f6-b2b0-d853bd4f0aba</th>\n",
       "      <td>1823</td>\n",
       "      <td>2017-09-28</td>\n",
       "      <td>15.0</td>\n",
       "      <td>72.0</td>\n",
       "      <td>37.077776</td>\n",
       "      <td>-118.723445</td>\n",
       "    </tr>\n",
       "    <tr>\n",
       "      <th>0003f387-71c4-48f6-b2b0-d853bd4f0aba</th>\n",
       "      <td>1824</td>\n",
       "      <td>2017-09-29</td>\n",
       "      <td>8.0</td>\n",
       "      <td>35.0</td>\n",
       "      <td>37.077776</td>\n",
       "      <td>-118.723445</td>\n",
       "    </tr>\n",
       "    <tr>\n",
       "      <th>0003f387-71c4-48f6-b2b0-d853bd4f0aba</th>\n",
       "      <td>1825</td>\n",
       "      <td>2017-09-30</td>\n",
       "      <td>1.0</td>\n",
       "      <td>5.0</td>\n",
       "      <td>37.077776</td>\n",
       "      <td>-118.723445</td>\n",
       "    </tr>\n",
       "  </tbody>\n",
       "</table>\n",
       "<p>1826 rows × 6 columns</p>\n",
       "</div>"
      ],
      "text/plain": [
       "                                      Unnamed: 0        date  SWE_UA  \\\n",
       "label                                                                  \n",
       "0003f387-71c4-48f6-b2b0-d853bd4f0aba           0  2012-10-01     0.0   \n",
       "0003f387-71c4-48f6-b2b0-d853bd4f0aba           1  2012-10-02     0.0   \n",
       "0003f387-71c4-48f6-b2b0-d853bd4f0aba           2  2012-10-03     0.0   \n",
       "0003f387-71c4-48f6-b2b0-d853bd4f0aba           3  2012-10-04     0.0   \n",
       "0003f387-71c4-48f6-b2b0-d853bd4f0aba           4  2012-10-05     0.0   \n",
       "...                                          ...         ...     ...   \n",
       "0003f387-71c4-48f6-b2b0-d853bd4f0aba        1821  2017-09-26    22.0   \n",
       "0003f387-71c4-48f6-b2b0-d853bd4f0aba        1822  2017-09-27    20.0   \n",
       "0003f387-71c4-48f6-b2b0-d853bd4f0aba        1823  2017-09-28    15.0   \n",
       "0003f387-71c4-48f6-b2b0-d853bd4f0aba        1824  2017-09-29     8.0   \n",
       "0003f387-71c4-48f6-b2b0-d853bd4f0aba        1825  2017-09-30     1.0   \n",
       "\n",
       "                                      Depth_UA   latitude   longitude  \n",
       "label                                                                  \n",
       "0003f387-71c4-48f6-b2b0-d853bd4f0aba       0.0  37.077776 -118.723445  \n",
       "0003f387-71c4-48f6-b2b0-d853bd4f0aba       0.0  37.077776 -118.723445  \n",
       "0003f387-71c4-48f6-b2b0-d853bd4f0aba       0.0  37.077776 -118.723445  \n",
       "0003f387-71c4-48f6-b2b0-d853bd4f0aba       0.0  37.077776 -118.723445  \n",
       "0003f387-71c4-48f6-b2b0-d853bd4f0aba       0.0  37.077776 -118.723445  \n",
       "...                                        ...        ...         ...  \n",
       "0003f387-71c4-48f6-b2b0-d853bd4f0aba     133.0  37.077776 -118.723445  \n",
       "0003f387-71c4-48f6-b2b0-d853bd4f0aba     105.0  37.077776 -118.723445  \n",
       "0003f387-71c4-48f6-b2b0-d853bd4f0aba      72.0  37.077776 -118.723445  \n",
       "0003f387-71c4-48f6-b2b0-d853bd4f0aba      35.0  37.077776 -118.723445  \n",
       "0003f387-71c4-48f6-b2b0-d853bd4f0aba       5.0  37.077776 -118.723445  \n",
       "\n",
       "[1826 rows x 6 columns]"
      ]
     },
     "execution_count": 239,
     "metadata": {},
     "output_type": "execute_result"
    }
   ],
   "source": [
    "test"
   ]
  },
  {
   "cell_type": "code",
   "execution_count": 230,
   "metadata": {},
   "outputs": [],
   "source": [
    "tup = tuple(test)"
   ]
  },
  {
   "cell_type": "code",
   "execution_count": 231,
   "metadata": {},
   "outputs": [
    {
     "data": {
      "text/plain": [
       "('Unnamed: 0', 'date', 'SWE_UA', 'Depth_UA', 'latitude', 'longitude', 'label')"
      ]
     },
     "execution_count": 231,
     "metadata": {},
     "output_type": "execute_result"
    }
   ],
   "source": [
    "tup"
   ]
  },
  {
   "cell_type": "code",
   "execution_count": null,
   "metadata": {},
   "outputs": [],
   "source": []
  },
  {
   "cell_type": "code",
   "execution_count": null,
   "metadata": {
    "scrolled": true
   },
   "outputs": [],
   "source": []
  },
  {
   "cell_type": "code",
   "execution_count": null,
   "metadata": {},
   "outputs": [],
   "source": []
  },
  {
   "cell_type": "code",
   "execution_count": null,
   "metadata": {},
   "outputs": [],
   "source": []
  },
  {
   "cell_type": "code",
   "execution_count": null,
   "metadata": {},
   "outputs": [],
   "source": []
  },
  {
   "cell_type": "code",
   "execution_count": null,
   "metadata": {},
   "outputs": [],
   "source": []
  },
  {
   "cell_type": "code",
   "execution_count": null,
   "metadata": {
    "scrolled": true
   },
   "outputs": [],
   "source": []
  },
  {
   "cell_type": "code",
   "execution_count": null,
   "metadata": {
    "scrolled": true
   },
   "outputs": [],
   "source": []
  },
  {
   "cell_type": "code",
   "execution_count": null,
   "metadata": {},
   "outputs": [],
   "source": []
  },
  {
   "cell_type": "code",
   "execution_count": null,
   "metadata": {},
   "outputs": [],
   "source": []
  },
  {
   "cell_type": "code",
   "execution_count": null,
   "metadata": {},
   "outputs": [],
   "source": []
  },
  {
   "cell_type": "code",
   "execution_count": null,
   "metadata": {},
   "outputs": [],
   "source": []
  },
  {
   "cell_type": "code",
   "execution_count": null,
   "metadata": {},
   "outputs": [],
   "source": []
  },
  {
   "cell_type": "code",
   "execution_count": null,
   "metadata": {},
   "outputs": [],
   "source": []
  },
  {
   "cell_type": "code",
   "execution_count": null,
   "metadata": {},
   "outputs": [],
   "source": []
  },
  {
   "cell_type": "code",
   "execution_count": null,
   "metadata": {},
   "outputs": [],
   "source": []
  },
  {
   "cell_type": "code",
   "execution_count": null,
   "metadata": {},
   "outputs": [],
   "source": []
  },
  {
   "cell_type": "code",
   "execution_count": null,
   "metadata": {},
   "outputs": [],
   "source": []
  },
  {
   "cell_type": "code",
   "execution_count": null,
   "metadata": {},
   "outputs": [],
   "source": []
  },
  {
   "cell_type": "code",
   "execution_count": null,
   "metadata": {},
   "outputs": [],
   "source": []
  },
  {
   "cell_type": "code",
   "execution_count": null,
   "metadata": {},
   "outputs": [],
   "source": []
  },
  {
   "cell_type": "code",
   "execution_count": null,
   "metadata": {},
   "outputs": [],
   "source": []
  },
  {
   "cell_type": "code",
   "execution_count": null,
   "metadata": {},
   "outputs": [],
   "source": []
  }
 ],
 "metadata": {
  "kernelspec": {
   "display_name": "Python 3",
   "language": "python",
   "name": "python3"
  },
  "language_info": {
   "codemirror_mode": {
    "name": "ipython",
    "version": 3
   },
   "file_extension": ".py",
   "mimetype": "text/x-python",
   "name": "python",
   "nbconvert_exporter": "python",
   "pygments_lexer": "ipython3",
   "version": "3.6.7"
  }
 },
 "nbformat": 4,
 "nbformat_minor": 4
}
